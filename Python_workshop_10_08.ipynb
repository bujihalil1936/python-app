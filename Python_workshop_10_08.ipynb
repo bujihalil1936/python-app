{
  "nbformat": 4,
  "nbformat_minor": 0,
  "metadata": {
    "colab": {
      "name": "Python_workshop_10_08.ipynb",
      "provenance": [],
      "collapsed_sections": [],
      "include_colab_link": true
    },
    "kernelspec": {
      "display_name": "Python 3",
      "language": "python",
      "name": "python3"
    },
    "language_info": {
      "codemirror_mode": {
        "name": "ipython",
        "version": 3
      },
      "file_extension": ".py",
      "mimetype": "text/x-python",
      "name": "python",
      "nbconvert_exporter": "python",
      "pygments_lexer": "ipython3",
      "version": "3.8.8"
    }
  },
  "cells": [
    {
      "cell_type": "markdown",
      "metadata": {
        "id": "view-in-github",
        "colab_type": "text"
      },
      "source": [
        "<a href=\"https://colab.research.google.com/github/bujihalil1936/python-app/blob/main/Python_workshop_10_08.ipynb\" target=\"_parent\"><img src=\"https://colab.research.google.com/assets/colab-badge.svg\" alt=\"Open In Colab\"/></a>"
      ]
    },
    {
      "cell_type": "markdown",
      "metadata": {
        "id": "ArQ8NQkQHUEs"
      },
      "source": [
        "<center><img src=\"https://github.com/aaron-clarusway/fullstack/blob/master/itf-logo.png?raw=true\"  alt=\"alt text\" width=\"200\"/></center>\n",
        "<br>\n",
        "<h1><p style=\"text-align: center; color:darkblue\">Python Basic</p><h1>\n",
        "<center><h1>Workshop - 2</h1></center>\n",
        "<p><img align=\"right\"\n",
        "  src=\"https://secure.meetupstatic.com/photos/event/3/1/b/9/600_488352729.jpeg\"  width=\"15px\"></p>\n",
        "<br>\n",
        "\n",
        "\n",
        "# Subject: Collections - Control Flow Statements"
      ]
    },
    {
      "cell_type": "markdown",
      "metadata": {
        "id": "sKs_BlPcHUEy"
      },
      "source": [
        "## Coding Challenge-1 : Find the Largest Number\n",
        "\n",
        "Purpose of the this coding challenge is to solve a simple sorting problem in Python.\n",
        "\n",
        "### Learning Outcomes\n",
        "\n",
        "At the end of the this coding challenge, students will be able to;\n",
        "\n",
        "- get a basic understanding of sorting algorithms.\n",
        "- demonstrate their knowledge of lists in python\n",
        "- implement loops to solve the problems in python\n",
        "- get a better understanding of computational thinking concepts\n",
        "\n",
        "### Problem Statement\n",
        "  \n",
        "- Write a python code that finds the largest number among the ``n`` numbers given by the user as input.\n",
        "\n",
        "- First, take `n` from the user, then take `n` numbers one by one and select-print the largest one.\n",
        "\n",
        "- It is forbidden to use ``max()`` function.  \n",
        "\n",
        "- Indicate which computational thinking concepts have you used.\n",
        "\n",
        "- Example for user inputs and respective outputs\n",
        "\n",
        "```text\n",
        "Input                Output\n",
        "---------------:     -------------------------:\n",
        "n = 5, 1 2 3 4 5     The largest number is:  5\n",
        "n = 3, 67 85 19      The largest number is:  85\n",
        "```"
      ]
    },
    {
      "cell_type": "markdown",
      "metadata": {
        "id": "LAyhLeUJHUE0"
      },
      "source": [
        "### Solution :"
      ]
    },
    {
      "cell_type": "code",
      "metadata": {
        "id": "xzCYBnN2HUE2",
        "outputId": "955c0a74-29e6-46be-a9c7-dfd737b7652e"
      },
      "source": [
        "count=0\n",
        "array=[]\n",
        "size = int(input(\"How many numbers will you enter? \"))\n",
        "while count < size:\n",
        "    number= int(input('Please enter the number: '))\n",
        "    array.append(number)\n",
        "    count = count +1\n",
        "\n",
        "largest = array[0]\n",
        "for i in array:\n",
        "    if i > largest:\n",
        "        largest = i\n",
        "\n",
        "print(\"The largest number is : \", largest)"
      ],
      "execution_count": null,
      "outputs": [
        {
          "output_type": "stream",
          "text": [
            "How many numbers will you enter?7\n",
            "Please enter the number: 6\n",
            "Please enter the number: 6\n",
            "Please enter the number: 6\n",
            "Please enter the number: 6\n",
            "Please enter the number: 6\n",
            "Please enter the number: 6\n",
            "Please enter the number: 65\n",
            "The largest number is :  65\n"
          ],
          "name": "stdout"
        }
      ]
    },
    {
      "cell_type": "markdown",
      "metadata": {
        "id": "BSkZqRUJHUE4"
      },
      "source": [
        "## Coding Challenge-2 : Group Anagrams\n",
        "\n",
        "Purpose of the this coding challenge is to solve a grouping algorithm in Python.\n",
        "\n",
        "### Learning Outcomes\n",
        "\n",
        "At the end of the this coding challenge, students will be able to;\n",
        "\n",
        "- get a basic understanding of grouping algorithms.\n",
        "- demonstrate their knowledge of lists, dicts in python\n",
        "- implement loops to solve the problems in python\n",
        "- get a better understanding of computational thinking concepts\n",
        "\n",
        "### Problem Statement\n",
        "  \n",
        "- Given a list of strings, group anagrams together.\n",
        "\n",
        "- Example:\n",
        "\n",
        "**Input:**\n",
        "```\n",
        "[\"eat\", \"tea\", \"tan\", \"ate\", \"nat\", \"bat\"],\n",
        "Output:\n",
        "[\n",
        "  [\"ate\",\"eat\",\"tea\"],\n",
        "  [\"nat\",\"tan\"],\n",
        "  [\"bat\"]\n",
        "]\n",
        "```\n",
        "Note:\n",
        "All inputs will be in lowercase.\n",
        "The order of your output does not matter."
      ]
    },
    {
      "cell_type": "markdown",
      "metadata": {
        "id": "p_9yk4jfHUE5"
      },
      "source": [
        "### Solution :"
      ]
    },
    {
      "cell_type": "code",
      "metadata": {
        "id": "4zuUcxk0HUE6",
        "outputId": "23131ced-93ec-4a98-f023-f0ace30b6898"
      },
      "source": [
        "strs = [\"eat\", \"tea\", \"tan\", \"ate\", \"nat\", \"bat\", \"cat\", \"tac\"]\n",
        "anag = {}\n",
        "for i in strs:\n",
        "    element = \"\".join(sorted(i))\n",
        "    if element in anag:\n",
        "        anag[element].append(i)\n",
        "    else:\n",
        "        anag[element] = [i]\n",
        "print(list(anag.values()))"
      ],
      "execution_count": null,
      "outputs": [
        {
          "output_type": "stream",
          "text": [
            "[['eat', 'tea', 'ate'], ['tan', 'nat'], ['bat'], ['cat', 'tac']]\n"
          ],
          "name": "stdout"
        }
      ]
    },
    {
      "cell_type": "markdown",
      "metadata": {
        "id": "orFavV-SHUE8"
      },
      "source": [
        "## (optional) Coding Challenge - 3: Calculating the Amount of Water to be Trapped on Terrain\n",
        "\n",
        "\n",
        "The purpose of this coding challenge is to write a program that calculates the amount of water that can be contained within the generated holes.\n",
        "\n",
        "### Learning Outcomes\n",
        "\n",
        "At the end of this coding challenge, students will be able to;\n",
        "\n",
        "- analyze a problem, identify, and apply programming knowledge for appropriate solution.\n",
        "\n",
        "- design, implement `while` loops effectively in Python to solve the given problem.\n",
        "\n",
        "- control loops effectively by using `if` and `control` statements.\n",
        "\n",
        "- demonstrate their knowledge of algorithmic design principles by using solving the problem effectively.\n",
        "\n",
        "### Problem Statement\n",
        "\n",
        "- Given an array of non-negative integers representing an elevation map as shown below where the width of each bar is 1, compute how much water will be trapped on terrain after raining. To clarify further, the black boxes represents terrain and its height, and the blue boxes represents the water that could be trapped on the terrain.\n",
        "\n",
        "<center><img src=\"https://raw.githubusercontent.com/andrewfade/myprojects/main/image.png\" /></center>\n",
        "\n",
        "- User can enter as many numbers as they want to represent elevation of the terrain.\n",
        "\n",
        "- You can assume all the inputs are valid, thus you don't have to do an input check.\n",
        "\n",
        "- At the end of the program write a comment that indicates which computational thinking heuristics you have used and how you used them.\n",
        "\n",
        "- Example of user inputs and respective outputs.\n",
        "\n",
        "```text\n",
        "Inputs\n",
        "------------------------------\n",
        "Type 'ok' when you are done: 5\n",
        "Type 'ok' when you are done: 4\n",
        "Type 'ok' when you are done: 5\n",
        "Type 'ok' when you are done: ok\n",
        "\n",
        "Output\n",
        "------\n",
        "1\n",
        "\n",
        "Inputs\n",
        "------------------------------\n",
        "Type 'ok' when you are done: 2\n",
        "Type 'ok' when you are done: 1\n",
        "Type 'ok' when you are done: 2\n",
        "Type 'ok' when you are done: 3\n",
        "Type 'ok' when you are done: 2\n",
        "Type 'ok' when you are done: 3\n",
        "Type 'ok' when you are done: ok\n",
        "\n",
        "Output\n",
        "------\n",
        "2\n",
        "\n",
        "Inputs\n",
        "------------------------------\n",
        "Type 'ok' when you are done: 6\n",
        "Type 'ok' when you are done: 5\n",
        "Type 'ok' when you are done: 8\n",
        "Type 'ok' when you are done: 9\n",
        "Type 'ok' when you are done: 2\n",
        "Type 'ok' when you are done: 4\n",
        "Type 'ok' when you are done: 3\n",
        "Type 'ok' when you are done: 6\n",
        "Type 'ok' when you are done: ok\n",
        "\n",
        "Output\n",
        "------\n",
        "10\n",
        "```"
      ]
    },
    {
      "cell_type": "markdown",
      "metadata": {
        "id": "N32-yFxFHUE_"
      },
      "source": [
        "### Solution :"
      ]
    },
    {
      "cell_type": "code",
      "metadata": {
        "colab": {
          "base_uri": "https://localhost:8080/"
        },
        "id": "mIaPwse48pEb",
        "outputId": "3f35c18c-949b-45e9-c7aa-4fd98c2b1f8c"
      },
      "source": [
        "liste=[]\n",
        "while True:\n",
        "  a=input(\"Type 'ok' when you are done: \")\n",
        "  if a.isdigit():\n",
        "    liste.append(int(a))\n",
        "  else: \n",
        "    break\n",
        "k=0\n",
        "toplam=0\n",
        "for i in range(1,len(liste)-1):\n",
        "    k = min(max(liste[i+1:]), max(liste[(i-1)::-1]))\n",
        "    if liste[i] < k:\n",
        "      toplam += k - liste[i]\n",
        "print(toplam)\n",
        "\n"
      ],
      "execution_count": 12,
      "outputs": [
        {
          "output_type": "stream",
          "text": [
            "Type 'ok' when you are done: 2\n",
            "Type 'ok' when you are done: 1\n",
            "Type 'ok' when you are done: 2\n",
            "Type 'ok' when you are done: 3\n",
            "Type 'ok' when you are done: 2\n",
            "Type 'ok' when you are done: 3\n",
            "Type 'ok' when you are done: ok\n",
            "2\n"
          ],
          "name": "stdout"
        }
      ]
    },
    {
      "cell_type": "code",
      "metadata": {
        "id": "LJKRDS_WHUFC",
        "colab": {
          "base_uri": "https://localhost:8080/"
        },
        "outputId": "e77e7f9d-4f2a-4a41-f2e8-e2f4510dc4b4"
      },
      "source": [
        "# initialize the list of an integer array representing the elevation, and set it to empty\n",
        "height = []\n",
        "# Unless user types `ok`, get input of numbers from the user\n",
        "while True:\n",
        "    num = input(\"Type 'ok' when you are done: \")\n",
        "    # if the input is not equal to `ok`, add the input number to the height array\n",
        "    if num != \"ok\":\n",
        "        height.append(int(num))\n",
        "    # if the input equals to `ok`, get out of the while loop\n",
        "    else:\n",
        "        break\n",
        "# initialize areas which holds total amount of water to be trapped, and set to 0\n",
        "areas = 0\n",
        "# initialize maximum left and right, and set to 0\n",
        "max_l = max_r = 0\n",
        "# initialize left, and set to 0\n",
        "l = 0\n",
        "# initialize right and set to the last index of the input array\n",
        "r = len(height)-1\n",
        "# unless the current position of the height on left\n",
        "# is not greater than the one on right, run the loop\n",
        "while l < r:\n",
        "    # if the current position on left is lower than the right,\n",
        "    # max level on left determines the amount of water to be trapped.\n",
        "    if height[l] < height[r]:\n",
        "        # if the current height on left is greater than max height on left\n",
        "        # then the water not to be trapped, and set the max height to the new max\n",
        "        if height[l] > max_l:\n",
        "            max_l = height[l]\n",
        "        # otherwise, add the amount of water to be trapped.\n",
        "        else:\n",
        "            areas += max_l - height[l]\n",
        "        # increase current position on left by one\n",
        "        l += 1\n",
        "    # if the current position on left is higher than the right,\n",
        "    # max level on right determines the amount of water to be trapped.\n",
        "    else:\n",
        "        # if the current height on right is greater than max height on height\n",
        "        # then the water not to be trapped, and set the max height to the new max\n",
        "        if height[r] > max_r:\n",
        "            max_r = height[r]\n",
        "        # otherwise, add the amount of water to be trapped.\n",
        "        else:\n",
        "            areas += max_r - height[r]\n",
        "        # decrease current position on right by one\n",
        "        r -= 1\n",
        "# print the amount of water to be trapped\n",
        "print(\"\\nRain-trapped area : \", areas)"
      ],
      "execution_count": 15,
      "outputs": [
        {
          "output_type": "stream",
          "text": [
            "Type 'ok' when you are done: 2\n",
            "Type 'ok' when you are done: 1\n",
            "Type 'ok' when you are done: 2\n",
            "Type 'ok' when you are done: 3\n",
            "Type 'ok' when you are done: 2\n",
            "Type 'ok' when you are done: 3\n",
            "Type 'ok' when you are done: ok\n",
            "\n",
            "Rain-trapped area :  2\n"
          ],
          "name": "stdout"
        }
      ]
    },
    {
      "cell_type": "code",
      "metadata": {
        "id": "SS8rtjG7HUFE"
      },
      "source": [
        ""
      ],
      "execution_count": 7,
      "outputs": []
    },
    {
      "cell_type": "code",
      "metadata": {
        "id": "7DygcCu58Zai"
      },
      "source": [
        ""
      ],
      "execution_count": 10,
      "outputs": []
    }
  ]
}