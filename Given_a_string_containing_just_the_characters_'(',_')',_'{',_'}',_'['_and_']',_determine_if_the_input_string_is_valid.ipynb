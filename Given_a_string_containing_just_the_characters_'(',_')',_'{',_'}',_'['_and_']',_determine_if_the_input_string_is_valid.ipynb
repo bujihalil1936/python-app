{
  "nbformat": 4,
  "nbformat_minor": 0,
  "metadata": {
    "colab": {
      "name": " Here is another interview code challenge question used by Cisco, Dell, Airbnb, Microsoft ========================== Given a string containing just the characters '(', ')', '{', '}', '[' and ']', determine if the input string is valid..ipynb adlı not defterinin kopyası",
      "provenance": [],
      "authorship_tag": "ABX9TyPIC/7CU7jDfV1zGcQmZzRK",
      "include_colab_link": true
    },
    "kernelspec": {
      "name": "python3",
      "display_name": "Python 3"
    },
    "language_info": {
      "name": "python"
    }
  },
  "cells": [
    {
      "cell_type": "markdown",
      "metadata": {
        "id": "view-in-github",
        "colab_type": "text"
      },
      "source": [
        "<a href=\"https://colab.research.google.com/github/bujihalil1936/python-app/blob/main/Given_a_string_containing_just_the_characters_'('%2C_')'%2C_'%7B'%2C_'%7D'%2C_'%5B'_and_'%5D'%2C_determine_if_the_input_string_is_valid.ipynb\" target=\"_parent\"><img src=\"https://colab.research.google.com/assets/colab-badge.svg\" alt=\"Open In Colab\"/></a>"
      ]
    },
    {
      "cell_type": "markdown",
      "metadata": {
        "id": "Yk0jw_l-ePeL"
      },
      "source": [
        "Here is another interview code challenge question used\n",
        "by Cisco, Dell, Airbnb, Microsoft\n",
        "==========================\n",
        "Given a string containing just the characters '(', ')', '{', '}', '[' and ']',\n",
        "determine if the input string is valid.\n",
        "An input string is valid if:\n",
        "Open brackets must be closed by the same type of brackets.\n",
        "Open brackets must be closed in the correct order.\n",
        "Note that an empty string is also considered valid.\n",
        "Example 1:\n",
        "Input: \"()\"\n",
        "Output: True\n",
        "Example 2:\n",
        "Input: \"()[]{}\"\n",
        "Output: True\n",
        "Example 3:\n",
        "Input: \"(]\"\n",
        "Output: False\n",
        "Example 4:\n",
        "Input: \"([)]\"\n",
        "Output: False\n",
        "Example 5:\n",
        "Input: \"{[]}\"\n",
        "Output: True (edited) "
      ]
    },
    {
      "cell_type": "code",
      "metadata": {
        "colab": {
          "base_uri": "https://localhost:8080/"
        },
        "id": "HWTxcPWwdOM9",
        "outputId": "92615f6b-9401-4020-e93d-1fe59a0efea8"
      },
      "source": [
        "text = input('Enter a text > ')\n",
        "liste = ['(', '{', '[', ')', '}', ']']\n",
        "dictt = {'(':')', '{':'}', '[':']', ')':'(', '}':'{', ']':'['}\n",
        "leng = len(text)\n",
        "result = True\n",
        "for i in text:\n",
        "    if i in liste:\n",
        "        sayi_1 = text.count(i)\n",
        "        x = text.find(i)\n",
        "        if i == '(' or i == ')':\n",
        "            tersi = dictt[i]\n",
        "            if tersi in text:\n",
        "                sayi_2 = text.count(tersi)\n",
        "                y = text[::-1].find(tersi)\n",
        "                y = leng - y - 1\n",
        "                if i == '(':\n",
        "                    if sayi_1 !=sayi_2 or x > y or not (y - x) % 2:\n",
        "                        result = False\n",
        "                        break\n",
        "            else:\n",
        "                result = False\n",
        "        elif (i == '{' or i == '}') or (i == '[' or i == ']'):\n",
        "            tersi = dictt[i]\n",
        "            if tersi in text:\n",
        "                sayi_2 = text.count(tersi)\n",
        "                y = text[::-1].find(tersi)\n",
        "                y = leng - y - 1\n",
        "                if i == '{' or i == '[':\n",
        "                    if sayi_1 != sayi_2 or x > y or not (y - x) % 2:\n",
        "                        result = False\n",
        "                        break\n",
        "            else:\n",
        "                result = False\n",
        "    else:\n",
        "        result = False\n",
        "print(result)"
      ],
      "execution_count": null,
      "outputs": [
        {
          "output_type": "stream",
          "text": [
            "Enter a text > ()\n",
            "True\n"
          ],
          "name": "stdout"
        }
      ]
    }
  ]
}