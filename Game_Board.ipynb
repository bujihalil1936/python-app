{
  "nbformat": 4,
  "nbformat_minor": 0,
  "metadata": {
    "colab": {
      "name": "Game Board.ipynb adlı not defterinin kopyası",
      "provenance": [],
      "authorship_tag": "ABX9TyOcgPipdPNztcmIg7XB8KHq",
      "include_colab_link": true
    },
    "kernelspec": {
      "name": "python3",
      "display_name": "Python 3"
    },
    "language_info": {
      "name": "python"
    }
  },
  "cells": [
    {
      "cell_type": "markdown",
      "metadata": {
        "id": "view-in-github",
        "colab_type": "text"
      },
      "source": [
        "<a href=\"https://colab.research.google.com/github/bujihalil1936/python-app/blob/main/Game_Board.ipynb\" target=\"_parent\"><img src=\"https://colab.research.google.com/assets/colab-badge.svg\" alt=\"Open In Colab\"/></a>"
      ]
    },
    {
      "cell_type": "markdown",
      "metadata": {
        "id": "UTez9elYwfoE"
      },
      "source": [
        "Task: Time for some fake graphics! Let’s say we want to draw game boards that look like this:\n",
        " --- --- --- \n",
        "|   |   |   | \n",
        " --- --- ---  \n",
        "|   |   |   | \n",
        " --- --- ---  \n",
        "|   |   |   | \n",
        " --- --- --- \n",
        " This one is 3x3 (like in tic tac toe). Obviously, they come in many other sizes (8x8 for chess, 19x19 for Go, and many more).\n",
        "Ask the user what size game board they want to draw, and draw it for them to the screen using Python’s print statement."
      ]
    },
    {
      "cell_type": "code",
      "metadata": {
        "colab": {
          "base_uri": "https://localhost:8080/"
        },
        "id": "0tp1qRR9v6G-",
        "outputId": "a8e64dc3-ea6e-4335-8d30-0f6e6cb2beb3"
      },
      "source": [
        "x = int(input(\"enter the line board size: \"))\n",
        "y = int(input(\"enter the column board size: \"))\n",
        "a = \" _ _ _ \"\n",
        "b = \"|\"\n",
        "print(x*(\" \" + a) + \"\\n\" + y*(x*(b + a)+ b + \"\\n\"))"
      ],
      "execution_count": null,
      "outputs": [
        {
          "output_type": "stream",
          "text": [
            "enter the line board size: 3\n",
            "enter the column board size: 3\n",
            "  _ _ _   _ _ _   _ _ _ \n",
            "| _ _ _ | _ _ _ | _ _ _ |\n",
            "| _ _ _ | _ _ _ | _ _ _ |\n",
            "| _ _ _ | _ _ _ | _ _ _ |\n",
            "\n"
          ],
          "name": "stdout"
        }
      ]
    },
    {
      "cell_type": "code",
      "metadata": {
        "colab": {
          "base_uri": "https://localhost:8080/"
        },
        "id": "b4QiI5XHwkIJ",
        "outputId": "08a6d196-e1ab-4767-e57d-20ce922167cd"
      },
      "source": [
        "matrix = int(input(\"A*A size of matrix, Enter A: \"))\n",
        "for i in range(0,matrix):\n",
        "  if i<matrix:\n",
        "    print(\"{}\\n{}|\".format(\" ---\"*matrix, \"|   \"*matrix))\n",
        "print(\"{}\".format(\" ---\"*matrix))"
      ],
      "execution_count": null,
      "outputs": [
        {
          "output_type": "stream",
          "text": [
            "A*A size of matrix, Enter A: 5\n",
            " --- --- --- --- ---\n",
            "|   |   |   |   |   |\n",
            " --- --- --- --- ---\n",
            "|   |   |   |   |   |\n",
            " --- --- --- --- ---\n",
            "|   |   |   |   |   |\n",
            " --- --- --- --- ---\n",
            "|   |   |   |   |   |\n",
            " --- --- --- --- ---\n",
            "|   |   |   |   |   |\n",
            " --- --- --- --- ---\n"
          ],
          "name": "stdout"
        }
      ]
    },
    {
      "cell_type": "code",
      "metadata": {
        "colab": {
          "base_uri": "https://localhost:8080/"
        },
        "id": "061UiKaZwvI1",
        "outputId": "7fc7c6f3-d3fa-458d-999d-3a1d6ad3839d"
      },
      "source": [
        "print('Welcome to the Game!!!')\n",
        "size = input('What size of game board do you want me to draw? (e.g., 3X3) > ')\n",
        "index = size.upper().find('X')\n",
        "row = int(size[:index])\n",
        "column = int(size[index +1 :])\n",
        "row_print = \" ---\"\n",
        "column_print = \"|   \"\n",
        "for i in range(row):\n",
        "    print(row_print * column)\n",
        "    print(column_print * (column + 1))\n",
        "print(row_print * column)\n",
        "\n"
      ],
      "execution_count": null,
      "outputs": [
        {
          "output_type": "stream",
          "text": [
            "Welcome to the Game!!!\n",
            "What size of game board do you want me to draw? (e.g., 3X3) > 10\n",
            " --- --- --- --- --- --- --- --- --- ---\n",
            "|   |   |   |   |   |   |   |   |   |   |   \n",
            " --- --- --- --- --- --- --- --- --- ---\n"
          ],
          "name": "stdout"
        }
      ]
    },
    {
      "cell_type": "code",
      "metadata": {
        "colab": {
          "base_uri": "https://localhost:8080/"
        },
        "id": "OL3doB4Uw4AJ",
        "outputId": "84cf5d57-cb1d-4fa3-990b-4667beda70c4"
      },
      "source": [
        "print('Welcome to the Game!!!')\n",
        "size = input('What size of game board do you want me to draw? (e.g., 3X3) > ')\n",
        "row = int(size)\n",
        "column = int(size)\n",
        "row_print = \" ---\"\n",
        "column_print = \"|   \"\n",
        "for i in range(row):\n",
        "    print(row_print * column)\n",
        "    print(column_print * (column + 1))\n",
        "print(row_print * column)"
      ],
      "execution_count": null,
      "outputs": [
        {
          "output_type": "stream",
          "text": [
            "Welcome to the Game!!!\n",
            "What size of game board do you want me to draw? (e.g., 3X3) > 10\n",
            " --- --- --- --- --- --- --- --- --- ---\n",
            "|   |   |   |   |   |   |   |   |   |   |   \n",
            " --- --- --- --- --- --- --- --- --- ---\n",
            "|   |   |   |   |   |   |   |   |   |   |   \n",
            " --- --- --- --- --- --- --- --- --- ---\n",
            "|   |   |   |   |   |   |   |   |   |   |   \n",
            " --- --- --- --- --- --- --- --- --- ---\n",
            "|   |   |   |   |   |   |   |   |   |   |   \n",
            " --- --- --- --- --- --- --- --- --- ---\n",
            "|   |   |   |   |   |   |   |   |   |   |   \n",
            " --- --- --- --- --- --- --- --- --- ---\n",
            "|   |   |   |   |   |   |   |   |   |   |   \n",
            " --- --- --- --- --- --- --- --- --- ---\n",
            "|   |   |   |   |   |   |   |   |   |   |   \n",
            " --- --- --- --- --- --- --- --- --- ---\n",
            "|   |   |   |   |   |   |   |   |   |   |   \n",
            " --- --- --- --- --- --- --- --- --- ---\n",
            "|   |   |   |   |   |   |   |   |   |   |   \n",
            " --- --- --- --- --- --- --- --- --- ---\n",
            "|   |   |   |   |   |   |   |   |   |   |   \n",
            " --- --- --- --- --- --- --- --- --- ---\n"
          ],
          "name": "stdout"
        }
      ]
    }
  ]
}