{
  "nbformat": 4,
  "nbformat_minor": 0,
  "metadata": {
    "colab": {
      "name": "Armstrong number.ipynb adlı not defterinin kopyası",
      "provenance": [],
      "authorship_tag": "ABX9TyPP94ZDFVXi8gCyWeM+BUeY",
      "include_colab_link": true
    },
    "kernelspec": {
      "name": "python3",
      "display_name": "Python 3"
    },
    "language_info": {
      "name": "python"
    }
  },
  "cells": [
    {
      "cell_type": "markdown",
      "metadata": {
        "id": "view-in-github",
        "colab_type": "text"
      },
      "source": [
        "<a href=\"https://colab.research.google.com/github/bujihalil1936/python-app/blob/main/Armstrong_number.ipynb\" target=\"_parent\"><img src=\"https://colab.research.google.com/assets/colab-badge.svg\" alt=\"Open In Colab\"/></a>"
      ]
    },
    {
      "cell_type": "code",
      "metadata": {
        "colab": {
          "base_uri": "https://localhost:8080/"
        },
        "id": "f9jBLp9zE9JF",
        "outputId": "8314144d-7940-4799-96e6-40d0bcb6619e"
      },
      "source": [
        "num = int(input(\"Enter a number: \"))  \n",
        "sum = 0  \n",
        "temp = num  \n",
        "  \n",
        "while temp > 0:  \n",
        "   digit = temp % 10  \n",
        "   sum += digit ** 3  \n",
        "   temp //= 10  \n",
        "  \n",
        "if num == sum:  \n",
        "   print(num,\"is an Armstrong number\")  \n",
        "else:  \n",
        "   print(num,\"is not an Armstrong number\")  "
      ],
      "execution_count": null,
      "outputs": [
        {
          "output_type": "stream",
          "text": [
            "Enter a number: 121\n",
            "121 is not an Armstrong number\n"
          ],
          "name": "stdout"
        }
      ]
    }
  ]
}