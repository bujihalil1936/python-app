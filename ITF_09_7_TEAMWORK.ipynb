{
  "nbformat": 4,
  "nbformat_minor": 0,
  "metadata": {
    "colab": {
      "name": "ITF-09-7-TEAMWORK.ipynb",
      "provenance": [],
      "collapsed_sections": [],
      "authorship_tag": "ABX9TyP4YviI1KW8vXrd5hKrAc3A",
      "include_colab_link": true
    },
    "kernelspec": {
      "name": "python3",
      "display_name": "Python 3"
    },
    "language_info": {
      "name": "python"
    }
  },
  "cells": [
    {
      "cell_type": "markdown",
      "metadata": {
        "id": "view-in-github",
        "colab_type": "text"
      },
      "source": [
        "<a href=\"https://colab.research.google.com/github/bujihalil1936/python-app/blob/main/ITF_09_7_TEAMWORK.ipynb\" target=\"_parent\"><img src=\"https://colab.research.google.com/assets/colab-badge.svg\" alt=\"Open In Colab\"/></a>"
      ]
    },
    {
      "cell_type": "markdown",
      "metadata": {
        "id": "h-ZCbSFN-CvK"
      },
      "source": [
        "SORU 1\n",
        "\n",
        "Not: Setler sırasız olduğundan, öğelerin hangi sırayla görüneceğinden emin olamazsınız.\n",
        "\n",
        "Set öğeleri, onları her kullandığınızda farklı bir sırada görebilirsiniz\n",
        "\n"
      ]
    },
    {
      "cell_type": "code",
      "metadata": {
        "colab": {
          "base_uri": "https://localhost:8080/"
        },
        "id": "OEv6A-gsq2Is",
        "outputId": "cfb98fb6-b9cd-4ccf-9498-faaee270ee60"
      },
      "source": [
        "set('pqr')"
      ],
      "execution_count": 42,
      "outputs": [
        {
          "output_type": "execute_result",
          "data": {
            "text/plain": [
              "{'p', 'q', 'r'}"
            ]
          },
          "metadata": {
            "tags": []
          },
          "execution_count": 42
        }
      ]
    },
    {
      "cell_type": "code",
      "metadata": {
        "colab": {
          "base_uri": "https://localhost:8080/"
        },
        "id": "oq1qb_viprMV",
        "outputId": "d520b96a-9eaf-4d20-cad9-ef74b6855a7a"
      },
      "source": [
        "for i in set('pqr'):\n",
        "  print(i*2)"
      ],
      "execution_count": 45,
      "outputs": [
        {
          "output_type": "stream",
          "text": [
            "rr\n",
            "pp\n",
            "qq\n"
          ],
          "name": "stdout"
        }
      ]
    },
    {
      "cell_type": "markdown",
      "metadata": {
        "id": "QpPf8c30--20"
      },
      "source": [
        "SORU 2 \n",
        "\n",
        "{}\n",
        "\n",
        "\n",
        "dict()"
      ]
    },
    {
      "cell_type": "code",
      "metadata": {
        "colab": {
          "base_uri": "https://localhost:8080/"
        },
        "id": "l9RJ9gX3qdCQ",
        "outputId": "51a88924-80c9-4b3d-e1c0-5e762b0f8541"
      },
      "source": [
        "my_dict={'key1':'value1',\n",
        "         'key2':'value2',\n",
        "         'key3':'value3'\n",
        "         }\n",
        "my_dict"
      ],
      "execution_count": 50,
      "outputs": [
        {
          "output_type": "execute_result",
          "data": {
            "text/plain": [
              "{'key1': 'value1', 'key2': 'value2', 'key3': 'value3'}"
            ]
          },
          "metadata": {
            "tags": []
          },
          "execution_count": 50
        }
      ]
    },
    {
      "cell_type": "code",
      "metadata": {
        "colab": {
          "base_uri": "https://localhost:8080/"
        },
        "id": "UrtgIl-orxx9",
        "outputId": "21a5c706-7210-47d4-fb5e-fd80e4da32a1"
      },
      "source": [
        "a = dict(key1='value1',\n",
        "         key2='value2',\n",
        "         key3='value3'\n",
        "         )\n",
        "a"
      ],
      "execution_count": 46,
      "outputs": [
        {
          "output_type": "execute_result",
          "data": {
            "text/plain": [
              "{'key1': 'value1', 'key2': 'value2', 'key3': 'value3'}"
            ]
          },
          "metadata": {
            "tags": []
          },
          "execution_count": 46
        }
      ]
    },
    {
      "cell_type": "code",
      "metadata": {
        "colab": {
          "base_uri": "https://localhost:8080/"
        },
        "id": "mB0mBJrPUuB5",
        "outputId": "b71b6111-9885-4431-bfe6-13a3642abb3d"
      },
      "source": [
        "#Soru 3\n",
        "\n",
        "d = {\"john\":40, \"peter\":45}\n",
        "d[\"john\"]"
      ],
      "execution_count": 51,
      "outputs": [
        {
          "output_type": "execute_result",
          "data": {
            "text/plain": [
              "40"
            ]
          },
          "metadata": {
            "tags": []
          },
          "execution_count": 51
        }
      ]
    },
    {
      "cell_type": "code",
      "metadata": {
        "colab": {
          "base_uri": "https://localhost:8080/"
        },
        "id": "TAR0QePRUxpv",
        "outputId": "ca953bd2-b82b-40bf-c68a-d8d84e99fb99"
      },
      "source": [
        "# Soru 4\n",
        "\n",
        "d = {\"john\":40, \"peter\":45}\n",
        "print(list(d.items()))\n"
      ],
      "execution_count": 54,
      "outputs": [
        {
          "output_type": "stream",
          "text": [
            "[('john', 40), ('peter', 45)]\n"
          ],
          "name": "stdout"
        }
      ]
    },
    {
      "cell_type": "markdown",
      "metadata": {
        "id": "0hkC8Dx4H4kZ"
      },
      "source": [
        "soru 5\n"
      ]
    },
    {
      "cell_type": "code",
      "metadata": {
        "colab": {
          "base_uri": "https://localhost:8080/"
        },
        "id": "Cs32Gyl3H39W",
        "outputId": "db825edc-5405-4a03-a11e-2fec3f9a2a7d"
      },
      "source": [
        "a={}\n",
        "a['a']=1\n",
        "a"
      ],
      "execution_count": 32,
      "outputs": [
        {
          "output_type": "execute_result",
          "data": {
            "text/plain": [
              "{'a': 1}"
            ]
          },
          "metadata": {
            "tags": []
          },
          "execution_count": 32
        }
      ]
    },
    {
      "cell_type": "code",
      "metadata": {
        "colab": {
          "base_uri": "https://localhost:8080/"
        },
        "id": "1zcEdylKIAYw",
        "outputId": "21f82a10-dd6a-4613-b777-b4d600ed770a"
      },
      "source": [
        "a['b']=[2,3,4]\n",
        "print(a)"
      ],
      "execution_count": 33,
      "outputs": [
        {
          "output_type": "stream",
          "text": [
            "{'a': 1, 'b': [2, 3, 4]}\n"
          ],
          "name": "stdout"
        }
      ]
    },
    {
      "cell_type": "markdown",
      "metadata": {
        "id": "0QQGaIQ7DXVD"
      },
      "source": [
        "soru 6\n",
        "\n"
      ]
    },
    {
      "cell_type": "code",
      "metadata": {
        "colab": {
          "base_uri": "https://localhost:8080/"
        },
        "id": "5ripu7_y-0yx",
        "outputId": "7276a39e-b15c-4ab8-f40c-2a0a254672ee"
      },
      "source": [
        "z=set('abc')\n",
        "z"
      ],
      "execution_count": 23,
      "outputs": [
        {
          "output_type": "execute_result",
          "data": {
            "text/plain": [
              "{'a', 'b', 'c'}"
            ]
          },
          "metadata": {
            "tags": []
          },
          "execution_count": 23
        }
      ]
    },
    {
      "cell_type": "code",
      "metadata": {
        "colab": {
          "base_uri": "https://localhost:8080/"
        },
        "id": "f_ccMtVo-0vu",
        "outputId": "d605d996-0828-4ed6-ed64-0777d99ec8af"
      },
      "source": [
        "z.add('san')\n",
        "z"
      ],
      "execution_count": 24,
      "outputs": [
        {
          "output_type": "execute_result",
          "data": {
            "text/plain": [
              "{'a', 'b', 'c', 'san'}"
            ]
          },
          "metadata": {
            "tags": []
          },
          "execution_count": 24
        }
      ]
    },
    {
      "cell_type": "code",
      "metadata": {
        "colab": {
          "base_uri": "https://localhost:8080/"
        },
        "id": "US0RNXk--0s8",
        "outputId": "d11d52b6-ab22-4c26-8eb3-5ead75ec309c"
      },
      "source": [
        "z=set('abc')\n",
        "z.add('san')\n",
        "z.update(set(\"halil\"))\n",
        "print(z)"
      ],
      "execution_count": 64,
      "outputs": [
        {
          "output_type": "stream",
          "text": [
            "{'l', 'b', 'i', 'san', 'a', 'c', 'h'}\n"
          ],
          "name": "stdout"
        }
      ]
    },
    {
      "cell_type": "code",
      "metadata": {
        "colab": {
          "base_uri": "https://localhost:8080/"
        },
        "id": "WtzASqn7wJcu",
        "outputId": "5e0c763f-3bb2-4cc9-a460-b91280b3d036"
      },
      "source": [
        "print(set(['p', 'q']))"
      ],
      "execution_count": 55,
      "outputs": [
        {
          "output_type": "stream",
          "text": [
            "{'p', 'q'}\n"
          ],
          "name": "stdout"
        }
      ]
    },
    {
      "cell_type": "markdown",
      "metadata": {
        "id": "xihX3_6GVudL"
      },
      "source": [
        "7.\n",
        "SORu"
      ]
    },
    {
      "cell_type": "code",
      "metadata": {
        "colab": {
          "base_uri": "https://localhost:8080/",
          "height": 35
        },
        "id": "oLNrnC68-0pa",
        "outputId": "d57b980a-3cec-43e8-9b0e-07d68df30d1f"
      },
      "source": [
        "count, fruit, price = (2, 'apple', 3.5)\n",
        "fruit\n"
      ],
      "execution_count": 66,
      "outputs": [
        {
          "output_type": "execute_result",
          "data": {
            "application/vnd.google.colaboratory.intrinsic+json": {
              "type": "string"
            },
            "text/plain": [
              "'apple'"
            ]
          },
          "metadata": {
            "tags": []
          },
          "execution_count": 66
        }
      ]
    },
    {
      "cell_type": "markdown",
      "metadata": {
        "id": "v5vDUfybV2J4"
      },
      "source": [
        "8. SORU\n",
        "\n",
        "\n",
        "start (isteğe bağlı)\n",
        "enumerate() bu sayıdan saymaya başlar. \n",
        "Eğer Başlat atlanırsa, start 0 olarak alınır .\n"
      ]
    },
    {
      "cell_type": "code",
      "metadata": {
        "colab": {
          "base_uri": "https://localhost:8080/"
        },
        "id": "S6ZObADH-0do",
        "outputId": "a7c8690b-03a8-4991-f950-81b0412c4c19"
      },
      "source": [
        "college_years = ['Freshman', 'Sophomore', 'Junior', 'Senior']\n",
        "print(list(enumerate(college_years)))\n"
      ],
      "execution_count": 70,
      "outputs": [
        {
          "output_type": "stream",
          "text": [
            "[(0, 'Freshman'), (1, 'Sophomore'), (2, 'Junior'), (3, 'Senior')]\n"
          ],
          "name": "stdout"
        }
      ]
    },
    {
      "cell_type": "code",
      "metadata": {
        "id": "v72XY_bx-0a6"
      },
      "source": [
        ""
      ],
      "execution_count": null,
      "outputs": []
    },
    {
      "cell_type": "code",
      "metadata": {
        "id": "rNEIjqxl-0XX"
      },
      "source": [
        ""
      ],
      "execution_count": null,
      "outputs": []
    },
    {
      "cell_type": "code",
      "metadata": {
        "id": "ATKnqn3h-0Uk"
      },
      "source": [
        ""
      ],
      "execution_count": null,
      "outputs": []
    },
    {
      "cell_type": "code",
      "metadata": {
        "id": "U8kMjOcD-0R8"
      },
      "source": [
        ""
      ],
      "execution_count": null,
      "outputs": []
    },
    {
      "cell_type": "code",
      "metadata": {
        "id": "wM1tMTdn-0Oq"
      },
      "source": [
        ""
      ],
      "execution_count": null,
      "outputs": []
    },
    {
      "cell_type": "code",
      "metadata": {
        "id": "OlO4dGaz-0LZ"
      },
      "source": [
        ""
      ],
      "execution_count": null,
      "outputs": []
    },
    {
      "cell_type": "code",
      "metadata": {
        "id": "2Ugq37i6-0IY"
      },
      "source": [
        ""
      ],
      "execution_count": null,
      "outputs": []
    },
    {
      "cell_type": "code",
      "metadata": {
        "id": "t9bCz5Gp-0FS"
      },
      "source": [
        ""
      ],
      "execution_count": null,
      "outputs": []
    },
    {
      "cell_type": "code",
      "metadata": {
        "id": "6yXn5Zgp-0CQ"
      },
      "source": [
        ""
      ],
      "execution_count": null,
      "outputs": []
    },
    {
      "cell_type": "code",
      "metadata": {
        "id": "R2iH6VFg-z_h"
      },
      "source": [
        ""
      ],
      "execution_count": null,
      "outputs": []
    }
  ]
}