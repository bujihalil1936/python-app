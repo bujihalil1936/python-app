{
  "nbformat": 4,
  "nbformat_minor": 0,
  "metadata": {
    "colab": {
      "name": "Assignment-009/2 (Covid-19 Risk) is due.ipynb adlı not defterinin kopyası",
      "provenance": [],
      "authorship_tag": "ABX9TyMm0PmffUfy/ND1BU46KyFN",
      "include_colab_link": true
    },
    "kernelspec": {
      "name": "python3",
      "display_name": "Python 3"
    },
    "language_info": {
      "name": "python"
    }
  },
  "cells": [
    {
      "cell_type": "markdown",
      "metadata": {
        "id": "view-in-github",
        "colab_type": "text"
      },
      "source": [
        "<a href=\"https://colab.research.google.com/github/bujihalil1936/python-app/blob/main/Assignment_009_2_(Covid_19_Risk).ipynb\" target=\"_parent\"><img src=\"https://colab.research.google.com/assets/colab-badge.svg\" alt=\"Open In Colab\"/></a>"
      ]
    },
    {
      "cell_type": "markdown",
      "metadata": {
        "id": "QWOka5f9peXJ"
      },
      "source": [
        "- Task : Estimating the risk of death from coronavirus. Write a program that;\n",
        "\n",
        "- Takes \"Yes\" or \"No\" from the user as an answer to the following questions :\n",
        "\n",
        "- Are you a cigarette addict older than 75 years old? Variable → age\n",
        "\n",
        "- Do you have a severe chronic disease? Variable → chronic\n",
        "\n",
        "- Is your immune system too weak? Variable → immune\n",
        "\n",
        "Set a logical algorithm using boolean logic operators (and/or) and use if-statements with the given variables in order to print out us a message : \"You are in risky group\"(if True ) or \"You are not in risky group\" (if False).\n",
        "\n",
        "age =  # can be assigned only True/False\n",
        "chronic =  # can be assigned only True/False\n",
        "immune =  # can be assigned only True/False\n",
        "risk = ?"
      ]
    },
    {
      "cell_type": "code",
      "metadata": {
        "colab": {
          "base_uri": "https://localhost:8080/"
        },
        "id": "SfocIy6ApLRc",
        "outputId": "a93f1a4f-f133-4181-a5a3-e989b7858095"
      },
      "source": [
        "age = input(\"Are you a cigarette addict older than 75 years old? (True or False) : \")\n",
        "chronic = input(\"Do you have a severe chronic disease? (True or False) : \")\n",
        "immune = input(\"Is your immune system too weak? (True or False) : \")\n",
        "age1 = (age == \"True\")\n",
        "chronic1 = (chronic == \"True\")\n",
        "immune1 = (immune == \"True\")\n",
        "risk =  (age1 or immune1 or chronic1) and 'there is a risk of death' or 'there is not a risk of death'\n",
        "print(risk)"
      ],
      "execution_count": null,
      "outputs": [
        {
          "output_type": "stream",
          "text": [
            "Are you a cigarette addict older than 75 years old? (True or False) : True\n",
            "Do you have a severe chronic disease? (True or False) : True\n",
            "Is your immune system too weak? (True or False) : True\n",
            "there is a risk of death\n"
          ],
          "name": "stdout"
        }
      ]
    }
  ]
}