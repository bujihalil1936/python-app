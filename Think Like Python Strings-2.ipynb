{
  "nbformat": 4,
  "nbformat_minor": 0,
  "metadata": {
    "colab": {
      "name": "Untitled42.ipynb adlı not defterinin kopyası",
      "provenance": [],
      "authorship_tag": "ABX9TyNRN/oX3xJK0cJ3Vq920Z4n",
      "include_colab_link": true
    },
    "kernelspec": {
      "name": "python3",
      "display_name": "Python 3"
    },
    "language_info": {
      "name": "python"
    }
  },
  "cells": [
    {
      "cell_type": "markdown",
      "metadata": {
        "id": "view-in-github",
        "colab_type": "text"
      },
      "source": [
        "<a href=\"https://colab.research.google.com/github/bujihalil1936/python-app/blob/main/Think%20Like%20Python%20Strings-2.ipynb\" target=\"_parent\"><img src=\"https://colab.research.google.com/assets/colab-badge.svg\" alt=\"Open In Colab\"/></a>"
      ]
    },
    {
      "cell_type": "markdown",
      "metadata": {
        "id": "aqz_Vv1jl372"
      },
      "source": [
        "Refresh your basic Python string skill...\n",
        "\n",
        "⚠️Avoid ! :\n",
        "Do not use any IDLE/IDE/Playground/Jupyter etc."
      ]
    },
    {
      "cell_type": "markdown",
      "metadata": {
        "id": "Rkb4rp1-lE5M"
      },
      "source": [
        "SORU 1- What will be the output of the following Python statement?\n",
        "\n",
        "\n",
        "example = \"snow world\"\n",
        "print(\"%s\" % example[4:7])"
      ]
    },
    {
      "cell_type": "markdown",
      "metadata": {
        "id": "UAJchZv0lKy5"
      },
      "source": [
        "SORU 2- What will be the output of the following Python statement?\n",
        "\n",
        "\n",
        "print(\"DA\", sep=\"-\",end = ' ')\n",
        "print(\"CA\", end = '')\n",
        "print(\"BA\", sep=\"-\", end = ' ')\n",
        "print(\"AA\", end = '')"
      ]
    },
    {
      "cell_type": "markdown",
      "metadata": {
        "id": "lYHiV1nElLHF"
      },
      "source": [
        "SORU 3- What will be the output of the following Python statement?\n",
        "\n",
        "example = \"snow world\"\n",
        "example[3] = 's'\n",
        "print(example)"
      ]
    },
    {
      "cell_type": "markdown",
      "metadata": {
        "id": "W2N95q1ZlLMS"
      },
      "source": [
        "SORU 4- What will be the output of the following Python statement?\n",
        "\n",
        "\n",
        "print(max(\"joseph\"))"
      ]
    },
    {
      "cell_type": "markdown",
      "metadata": {
        "id": "Ejxaav4HlLPI"
      },
      "source": [
        "SORU 5- What will be the output of the following Python statement?\n",
        "\n",
        "example = \"hello\"\n",
        "print(example.count(\"l\"))"
      ]
    },
    {
      "cell_type": "markdown",
      "metadata": {
        "id": "y729C1f9lLRj"
      },
      "source": [
        "SORU 6- What will be the output of the following Python statement?\n",
        "\n",
        "\n",
        "example = \"helen\"\n",
        "print(example.find(\"e\"))"
      ]
    },
    {
      "cell_type": "markdown",
      "metadata": {
        "id": "pHWOTWTnlLVs"
      },
      "source": [
        "SORU 7- What will be the output of the following Python statement?\n",
        "\n",
        "\n",
        "example=\"helloworld\"\n",
        "print(example[::-1].startswith(\"eh\"))"
      ]
    },
    {
      "cell_type": "markdown",
      "metadata": {
        "id": "bNbVrPdVlkVE"
      },
      "source": [
        ""
      ]
    },
    {
      "cell_type": "markdown",
      "metadata": {
        "id": "x8wBBbW_lk50"
      },
      "source": [
        ""
      ]
    },
    {
      "cell_type": "markdown",
      "metadata": {
        "id": "4hcVbT9wllvG"
      },
      "source": [
        "SORU 8- Which of the following statements prints hello\\example\\test.txt?\n",
        "\n",
        "\n",
        "A) print(\"hello\\example\\test.txt\")\n",
        "\n",
        "B) print(\"hello\\n\\example\\n\\test.txt\")\n",
        "\n",
        "C) print(“hello\"\\example\"\\test.txt”)\n",
        "\n",
        "D) print(\"hello\\\\example\\\\test.txt\")\n",
        "\n",
        "E) print(\"hello\\\"example\\\"test.txt\")"
      ]
    },
    {
      "cell_type": "markdown",
      "metadata": {
        "id": "lJnPaaFZlqh1"
      },
      "source": [
        "SORU 9- What will be the output of the following Python statement?\n",
        "\n",
        "s = \"\\t\\tWorld\\n\"\n",
        "print(s.strip())"
      ]
    },
    {
      "cell_type": "markdown",
      "metadata": {
        "id": "SC5HPwhflt5H"
      },
      "source": [
        "SORU 10- What will be the output of the following Python statement?\n",
        "\n",
        "print(\"hello\" +\"1+2+\"3\")"
      ]
    },
    {
      "cell_type": "markdown",
      "metadata": {
        "id": "VgbcQc3TluvC"
      },
      "source": [
        "What will be the output of the following Python statement?\n",
        "\n",
        "example = \"snow world\"\n",
        "print(\"%s\" % example[4:7])\n",
        "\n",
        "Select one:\n",
        "\n",
        " wo\n",
        "Congrats ! You are right.\n",
        "\n",
        "rl\n",
        "\n",
        "world\n",
        "\n",
        "wor\n",
        "\n",
        "sn\n",
        "Feedback\n",
        "slicing starts from start index goes to stop-1. s is for strings in formatting.\n",
        "\n",
        "The correct answer is:\n",
        " wo\n",
        "Question 2\n",
        "Correct\n",
        "Mark 1.00 out of 1.00\n",
        "Not flaggedFlag question\n",
        "Question text\n",
        "What will be the output of the following Python statement?\n",
        "\n",
        "print(\"DA\", sep=\"-\",end = ' ')\n",
        "print(\"CA\", end = '')\n",
        "print(\"BA\", sep=\"-\", end = ' ')\n",
        "print(\"AA\", end = '')\n",
        "\n",
        "Select one:\n",
        "\n",
        "DACA BAAA\n",
        "\n",
        "DA CA BA AA\n",
        "\n",
        "DA CABA AA\n",
        "Correct..\n",
        "\n",
        "D-A CA B-A AA\n",
        "\n",
        "D-A CAB-A AA\n",
        "Feedback\n",
        "\"print()\" function has two main parameters.\n",
        "\n",
        "The correct answer is:\n",
        "DA CABA AA\n",
        "Question 3\n",
        "Correct\n",
        "Mark 1.00 out of 1.00\n",
        "Not flaggedFlag question\n",
        "Question text\n",
        "What will be the output of the following Python statement?\n",
        "\n",
        "example = \"snow world\"\n",
        "example[3] = 's'\n",
        "print(example)\n",
        "\n",
        "Select one:\n",
        "\n",
        "TypeError\n",
        "Goood!\n",
        "\n",
        "snosw world\n",
        "\n",
        "snos world\n",
        "\n",
        "snos\n",
        "\n",
        "All is wrong.\n",
        "\n",
        "Feedback\n",
        "'str' object does not support item assignment.\n",
        "\n",
        "The correct answer is:\n",
        "TypeError\n",
        "Question 4\n",
        "Correct\n",
        "Mark 1.00 out of 1.00\n",
        "Not flaggedFlag question\n",
        "Question text\n",
        "What will be the output of the following Python statement?\n",
        "\n",
        "print(max(\"joseph\"))\n",
        "\n",
        "Select one:\n",
        "\n",
        "o\n",
        "\n",
        "s\n",
        "Correct..\n",
        "\n",
        "All is wrong.\n",
        "\n",
        "\n",
        "TypeError\n",
        "\n",
        "j\n",
        "Feedback\n",
        "Max returns the character with the highest ascii value.\n",
        "\n",
        "The correct answer is:\n",
        "s\n",
        "Question 5\n",
        "Correct\n",
        "Mark 1.00 out of 1.00\n",
        "Not flaggedFlag question\n",
        "Question text\n",
        "What will be the output of the following Python statement?\n",
        "\n",
        "example = \"hello\"\n",
        "print(example.count(\"l\"))\n",
        "\n",
        "Select one:\n",
        "\n",
        "2\n",
        "Correct..\n",
        "\n",
        "1\n",
        "\n",
        "0\n",
        "\n",
        "Error\n",
        "\n",
        "None\n",
        "Feedback\n",
        "\"l\" occurs twice in \"hello\". .count() method counts the char in a string.\n",
        "\n",
        "The correct answer is:\n",
        "2\n",
        "Question 6\n",
        "Correct\n",
        "Mark 1.00 out of 1.00\n",
        "Not flaggedFlag question\n",
        "Question text\n",
        "What will be the output of the following Python statement?\n",
        "\n",
        "example = \"helen\"\n",
        "print(example.find(\"e\"))\n",
        "\n",
        "Select one:\n",
        "\n",
        "None\n",
        "\n",
        "1\n",
        "Correct..\n",
        "\n",
        "0\n",
        "\n",
        "Error\n",
        "\n",
        "-1\n",
        "Feedback\n",
        "Returns the first index of the element being searched. \n",
        "\n",
        "The correct answer is:\n",
        "1\n",
        "Question 7\n",
        "Correct\n",
        "Mark 1.00 out of 1.00\n",
        "Not flaggedFlag question\n",
        "Question text\n",
        "What will be the output of the following Python statement?\n",
        "\n",
        "example=\"helloworld\"\n",
        "print(example[::-1].startswith(\"eh\"))\n",
        "\n",
        "Select one:\n",
        "\n",
        "True\n",
        "\n",
        "Error\n",
        "\n",
        "-1\n",
        "\n",
        "None\n",
        "\n",
        "False\n",
        "Correct..\n",
        "Feedback\n",
        "Returns the first index of the element being searched. \n",
        "\n",
        "The correct answer is:\n",
        "False\n",
        "Question 8\n",
        "Correct\n",
        "Mark 1.00 out of 1.00\n",
        "Not flaggedFlag question\n",
        "Question text\n",
        "Which of the following statements prints hello\\example\\test.txt?\n",
        "\n",
        "Select one:\n",
        "\n",
        "print(\"hello\\example\\test.txt\")\n",
        "\n",
        "print(\"hello\\n\\example\\n\\test.txt\")\n",
        "\n",
        "print(“hello\"\\example\"\\test.txt”)\n",
        "\n",
        "print(\"hello\\\\example\\\\test.txt\")\n",
        "Correct..\n",
        "\n",
        "print(\"hello\\\"example\\\"test.txt\")\n",
        "Feedback\n",
        " \"\\\" is used to indicate that the next \\ is not an escape sequence.\n",
        "\n",
        "The correct answer is:\n",
        "print(\"hello\\\\example\\\\test.txt\")\n",
        "Question 9\n",
        "Correct\n",
        "Mark 1.00 out of 1.00\n",
        "Not flaggedFlag question\n",
        "Question text\n",
        "What will be the output of the following Python statement?\n",
        "\n",
        "s = \"\\t\\tWorld\\n\"\n",
        "print(s.strip())\n",
        "\n",
        "Select one:\n",
        "\n",
        "\\t\\tWORLD\\n\n",
        "\n",
        "\\t\\tWorld\\n\n",
        "\n",
        "World\n",
        "Correct..\n",
        "\n",
        "        World\n",
        "\n",
        "Error\n",
        "Feedback\n",
        "\"strip()\" strips the spaces and extra escape chars.\n",
        "\n",
        "The correct answer is:\n",
        "World\n",
        "Question 10\n",
        "Correct\n",
        "Mark 1.00 out of 1.00\n",
        "Not flaggedFlag question\n",
        "Question text\n",
        "What will be the output of the following Python statement?\n",
        "\n",
        "print(\"hello\" +\"1+2+\"3\")\n",
        "\n",
        "Select one:\n",
        "\n",
        "hello1+2+3\n",
        "\n",
        "hello1+2+\n",
        "\n",
        "hello123\n",
        "\n",
        "hello6\n",
        "\n",
        "Error\n",
        "Correct..\n",
        "Feedback\n",
        "\"str\" and \"int\" cannot be concatenated. quotes should be used correctly.\n",
        "\n",
        "The correct answer is:\n",
        "Error"
      ]
    }
  ]
}