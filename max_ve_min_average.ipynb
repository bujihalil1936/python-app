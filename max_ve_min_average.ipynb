{
  "nbformat": 4,
  "nbformat_minor": 0,
  "metadata": {
    "colab": {
      "name": "max. ve min. average.ipynb",
      "provenance": [],
      "authorship_tag": "ABX9TyMFPu0O+lkePdIzEqm6tV47",
      "include_colab_link": true
    },
    "kernelspec": {
      "name": "python3",
      "display_name": "Python 3"
    },
    "language_info": {
      "name": "python"
    }
  },
  "cells": [
    {
      "cell_type": "markdown",
      "metadata": {
        "id": "view-in-github",
        "colab_type": "text"
      },
      "source": [
        "<a href=\"https://colab.research.google.com/github/bujihalil1936/python-app/blob/main/max_ve_min_average.ipynb\" target=\"_parent\"><img src=\"https://colab.research.google.com/assets/colab-badge.svg\" alt=\"Open In Colab\"/></a>"
      ]
    },
    {
      "cell_type": "markdown",
      "metadata": {
        "id": "O-LMg5Orhq89"
      },
      "source": [
        "  Write a Python code that find the students who have maximum and minimum average at below.\n",
        "grades={'Student-1': {'Lesson-1': 57, 'Lesson-2': 46, 'Lesson-3': 58, 'Lesson-4': 81, 'Lesson-5': 85}, 'Student-2': {'Lesson-1': 85, 'Lesson-2': 56, 'Lesson-3': 51, 'Lesson-4': 69, 'Lesson-5': 67}, 'Student-3': {'Lesson-1': 68, 'Lesson-2': 76, 'Lesson-3': 87, 'Lesson-4': 57, 'Lesson-5': 56}, 'Student-4': {'Lesson-1': 78, 'Lesson-2': 93, 'Lesson-3': 88, 'Lesson-4': 38, 'Lesson-5': 54}, 'Student-5': {'Lesson-1': 50, 'Lesson-2': 46, 'Lesson-3': 78, 'Lesson-4': 81, 'Lesson-5': 75}}\n",
        "\n",
        "\n"
      ]
    },
    {
      "cell_type": "code",
      "metadata": {
        "colab": {
          "base_uri": "https://localhost:8080/"
        },
        "id": "glvolMBdho52",
        "outputId": "5641dd37-404e-4602-a454-f0d5b8b8b072"
      },
      "source": [
        "grades={\n",
        "    'Student-1': {'Lesson-1': 57, 'Lesson-2': 46, 'Lesson-3': 58, 'Lesson-4': 81, 'Lesson-5': 85}, \n",
        "    'Student-2': {'Lesson-1': 85, 'Lesson-2': 56, 'Lesson-3': 51, 'Lesson-4': 69, 'Lesson-5': 67}, \n",
        "    'Student-3': {'Lesson-1': 68, 'Lesson-2': 76, 'Lesson-3': 87, 'Lesson-4': 57, 'Lesson-5': 56}, \n",
        "    'Student-4': {'Lesson-1': 78, 'Lesson-2': 93, 'Lesson-3': 88, 'Lesson-4': 38, 'Lesson-5': 54}, \n",
        "    'Student-5': {'Lesson-1': 50, 'Lesson-2': 46, 'Lesson-3': 78, 'Lesson-4': 81, 'Lesson-5': 75}}\n",
        "student_dict = {}\n",
        "student_list = []\n",
        "students = list(grades.keys())\n",
        "for i in grades.values():\n",
        "    total = 0\n",
        "    for x, y in i.items():\n",
        "        total += y\n",
        "        if x == list(grades['Student-1'].keys())[-1]:\n",
        "            total = total / len(grades)\n",
        "            student_list.append(total)\n",
        "            continue\n",
        "for i in range(len(grades)):\n",
        "    student_dict[student_list[i]] = students[i]\n",
        "maximum = max(list(student_dict.keys()))\n",
        "minimum = min(list(student_dict.keys()))\n",
        "print(f'The student who has the maximum average is {student_dict[maximum]} and his/her score is {maximum}.')\n",
        "print(f'The student who has the minimum average is {student_dict[minimum]} and his/her score is {minimum}.')"
      ],
      "execution_count": 3,
      "outputs": [
        {
          "output_type": "stream",
          "text": [
            "The student who has the maximum average is Student-4 and his/her score is 70.2.\n",
            "The student who has the minimum average is Student-1 and his/her score is 65.4.\n"
          ],
          "name": "stdout"
        }
      ]
    },
    {
      "cell_type": "code",
      "metadata": {
        "colab": {
          "base_uri": "https://localhost:8080/"
        },
        "id": "9Ep2gyJsh9Jh",
        "outputId": "d46c79a4-7494-4c88-e987-fffc9dc6ab76"
      },
      "source": [
        "class Student_info:\n",
        "    def __init__(grade, Lesson_1, Lesson_2, Lesson_3, Lesson_4, Lesson_5):\n",
        "        grade.Lesson_1 = Lesson_1\n",
        "        grade.Lesson_2 = Lesson_2\n",
        "        grade.Lesson_3 = Lesson_3\n",
        "        grade.Lesson_4 = Lesson_4\n",
        "        grade.Lesson_5 = Lesson_5\n",
        "    def myfunc(self):\n",
        "        average = (self.Lesson_1 + self.Lesson_2 + self.Lesson_3 + self.Lesson_4 + self.Lesson_5)/5\n",
        "        return average\n",
        "Student_1 = Student_info(57,46,58,81,85)\n",
        "Student_2 = Student_info(85,56,51,69,67)\n",
        "Student_3 = Student_info(68,76,87,57,56)\n",
        "Student_4 = Student_info(78,93,88,38,54)\n",
        "Student_5 = Student_info(50,46,78,81,75)\n",
        "all_grades = [\n",
        "    Student_1.myfunc(),\n",
        "    Student_2.myfunc(),\n",
        "    Student_3.myfunc(),\n",
        "    Student_4.myfunc(),\n",
        "    Student_5.myfunc() ]\n",
        "grades_with_names = {}\n",
        "for i in range(5):\n",
        "    grades_with_names.update({all_grades[i]:\"Student\"+f\"{i+1}\"})\n",
        "print(grades_with_names,\"\\nmax\",max(grades_with_names.items()),\"\\nmin\",min(grades_with_names.items()))"
      ],
      "execution_count": 4,
      "outputs": [
        {
          "output_type": "stream",
          "text": [
            "{65.4: 'Student1', 65.6: 'Student2', 68.8: 'Student3', 70.2: 'Student4', 66.0: 'Student5'} \n",
            "max (70.2, 'Student4') \n",
            "min (65.4, 'Student1')\n"
          ],
          "name": "stdout"
        }
      ]
    }
  ]
}