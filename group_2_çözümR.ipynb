{
  "nbformat": 4,
  "nbformat_minor": 0,
  "metadata": {
    "colab": {
      "name": "group_2_çözümR.ipynb",
      "provenance": [],
      "collapsed_sections": [],
      "include_colab_link": true
    },
    "kernelspec": {
      "name": "python3",
      "display_name": "Python 3"
    },
    "language_info": {
      "name": "python"
    }
  },
  "cells": [
    {
      "cell_type": "markdown",
      "metadata": {
        "id": "view-in-github",
        "colab_type": "text"
      },
      "source": [
        "<a href=\"https://colab.research.google.com/github/bujihalil1936/python-app/blob/main/group_2_%C3%A7%C3%B6z%C3%BCmR.ipynb\" target=\"_parent\"><img src=\"https://colab.research.google.com/assets/colab-badge.svg\" alt=\"Open In Colab\"/></a>"
      ]
    },
    {
      "cell_type": "markdown",
      "metadata": {
        "id": "DpXjn6Vd9Yw6"
      },
      "source": [
        "1- Write a program to prompt for a score between 0.0 and 1.0. If the score is out of range, print an error. If the score is between 0.0 and 1.0, print a grade using the following table: Score Grade\n",
        "\n",
        "0.9 A\n",
        "\n",
        "0.8 B\n",
        "\n",
        "0.7 C\n",
        "\n",
        "0.6 D\n",
        "\n",
        "0.6 F\n",
        "\n",
        "If the user enters a value out of range, print a suitable error message and exit. For the test, enter a score of 0.85"
      ]
    },
    {
      "cell_type": "code",
      "metadata": {
        "id": "8gWzYdd0CLHY"
      },
      "source": [
        "def score_grade(score):\n",
        "  if 0.0 <score < 1.0:\n",
        "    if score >= 0.9:\n",
        "      print(f\"{score} A\")\n",
        "    elif 0.8 <= score < 0.9:\n",
        "      print(f\"{score} B\")\n",
        "    elif 0.7 <= score < 0.8:\n",
        "      print(f\"{score} C\")\n",
        "    elif 0.6 <= score < 0.7:\n",
        "      print(f\"{score} D\")\n",
        "    else:\n",
        "      print(f\"{score} F \")\n",
        "  else:\n",
        "    print(\"range is not valid\")\n",
        "    \n",
        "score_grade(0.74)"
      ],
      "execution_count": null,
      "outputs": []
    },
    {
      "cell_type": "markdown",
      "metadata": {
        "id": "k7W9-BOA9n7O"
      },
      "source": [
        "2- Yazi olarak girilen string ifadenin içindeki harfler tamamen büyük veya tamamen küçük ise True, küçük ve büyük harlerden oluşmuş ise False veren bir fonksiyon yazalım."
      ]
    },
    {
      "cell_type": "code",
      "metadata": {
        "colab": {
          "base_uri": "https://localhost:8080/"
        },
        "id": "uRvyxy2JECno",
        "outputId": "f14792ea-56be-4190-91c1-95de8f5153a4"
      },
      "source": [
        "def case_sen(string):\n",
        "  if string == string.upper() or string == string.lower():\n",
        "    print(True)\n",
        "  else:\n",
        "    print(False)\n",
        "case_sen(\"harun\")"
      ],
      "execution_count": null,
      "outputs": [
        {
          "output_type": "stream",
          "text": [
            "True\n"
          ],
          "name": "stdout"
        }
      ]
    },
    {
      "cell_type": "markdown",
      "metadata": {
        "id": "6PFwqEFO9nxy"
      },
      "source": [
        "3- Sayıyı kalansız bölen sayıları bulan bir fonksiyon yazalım"
      ]
    },
    {
      "cell_type": "code",
      "metadata": {
        "id": "QrI8l2A4Eulo"
      },
      "source": [
        "def kalansız_bölen (sayı):\n",
        "  kalansız_bölenler = []\n",
        "  for i in range(1,sayı+1):\n",
        "    if sayı % i == 0:\n",
        "      kalansız_bölenler.append(i)\n",
        "  return kalansız_bölenler\n",
        "kalansız_bölen (45)"
      ],
      "execution_count": null,
      "outputs": []
    },
    {
      "cell_type": "markdown",
      "metadata": {
        "id": "rgWFi-lZ9noI"
      },
      "source": [
        "4- Cümlenin içindeki sesli harfleri kaldıran bir fonksiyon yazalım.\n",
        "print(sessiz_yap(\"Hayat beni neden yoruyosun?:)\")) --> hyt bn ndn yrysn?:)"
      ]
    },
    {
      "cell_type": "code",
      "metadata": {
        "id": "Jb8HIahgH2KO"
      },
      "source": [
        "def sessiz_yap(string):\n",
        "  sesli_harf =\"a e ı i o ö u ü\".split()\n",
        "  new_string = \"\"\n",
        "  for i in string:\n",
        "    if i not in sesli_harf:\n",
        "      new_string += i\n",
        "  return new_string\n",
        "\n",
        "sessiz_yap(\"Hayat beni neden yoruyosun?:)\")"
      ],
      "execution_count": null,
      "outputs": []
    },
    {
      "cell_type": "markdown",
      "metadata": {
        "id": "yxwOQSQe9ne1"
      },
      "source": [
        "5- Tarihi yüzyıla çeviren bir fonksiyon yazalım.\n",
        "print(yüzyıl_yap(1738)) --> 18. yüzyıl"
      ]
    },
    {
      "cell_type": "code",
      "metadata": {
        "id": "FnlhQcnsKfWT"
      },
      "source": [
        "def yüzyıl_yap(year):\n",
        "  yüzyıl = 0\n",
        "  if year < 100:\n",
        "    yüzyıl +=1\n",
        "  elif year > 100:\n",
        "    yüzyıl += year // 100 +1\n",
        "  print(f\"{yüzyıl}. yüzyıl\") \n",
        "\n",
        "yüzyıl_yap(90)"
      ],
      "execution_count": null,
      "outputs": []
    },
    {
      "cell_type": "markdown",
      "metadata": {
        "id": "Y4qLf-_89nL4"
      },
      "source": [
        "6- Yazının içersindeki kelimelerin ilk ve son karakterleri sabit tutup diğer karakterleri yerine - çizgi koyan fonksiyon yazalım.\n",
        "print(dönüstür(\"hello world\")) --> h---o w---d "
      ]
    },
    {
      "cell_type": "code",
      "metadata": {
        "colab": {
          "base_uri": "https://localhost:8080/",
          "height": 35
        },
        "id": "xjjBEWRGL-Z-",
        "outputId": "490a9900-4a76-46a5-a8a3-1fdd6895dbc4"
      },
      "source": [
        "def dönüştür(string):\n",
        "  lst = string.split()\n",
        "  new_string = \"\"\n",
        "  for i in lst:\n",
        "    k = 0\n",
        "    while k < len(i):\n",
        "      if k == 0:\n",
        "        new_string += i[k]\n",
        "      elif k == len(i) -1 :\n",
        "        new_string += i[k] + \" \"\n",
        "      else:\n",
        "        new_string += \"-\"\n",
        "      k += 1\n",
        "  return new_string\n",
        "dönüştür(\"hello world Hello everybody\")"
      ],
      "execution_count": null,
      "outputs": [
        {
          "output_type": "execute_result",
          "data": {
            "application/vnd.google.colaboratory.intrinsic+json": {
              "type": "string"
            },
            "text/plain": [
              "'h---o w---d H---o e-------y '"
            ]
          },
          "metadata": {
            "tags": []
          },
          "execution_count": 38
        }
      ]
    },
    {
      "cell_type": "markdown",
      "metadata": {
        "id": "mEPc7d0Z9nAI"
      },
      "source": [
        "7- Her girdi listesinde iki tanesi hariç her rakam en az bir kere tekrarlıyor.iki benzersiz sayıyı döndüren bir fonksiyon yazalım.\n",
        "benzersizi_bul([2,2,3,11,3,6,5]) --> [6, 5]  # 11 te 2 tane 1 var"
      ]
    },
    {
      "cell_type": "code",
      "metadata": {
        "colab": {
          "base_uri": "https://localhost:8080/"
        },
        "id": "gEOimo64RUGL",
        "outputId": "b12ae968-da93-4bd2-e18e-8b2912986209"
      },
      "source": [
        "def benzersizi_bul(lst_num):\n",
        "  new_lst =[]\n",
        "  \n",
        "  for i in lst_num:\n",
        "    if len(str(i)) > 1 :\n",
        "      for ii in str(i):\n",
        "        new_lst.append(int(ii))\n",
        "    else:\n",
        "      new_lst.append(i)\n",
        "\n",
        "  benzersiz = []\n",
        "  for k in new_lst:\n",
        "    a = new_lst.count(k)\n",
        "    if a == 1:\n",
        "      benzersiz.append(k)\n",
        "  \n",
        "  return benzersiz\n",
        "\n",
        "benzersizi_bul([2,2,3,11,3,6,5,14])\n",
        "\n",
        "\n"
      ],
      "execution_count": null,
      "outputs": [
        {
          "output_type": "execute_result",
          "data": {
            "text/plain": [
              "[6, 5, 4]"
            ]
          },
          "metadata": {
            "tags": []
          },
          "execution_count": 63
        }
      ]
    },
    {
      "cell_type": "markdown",
      "metadata": {
        "id": "GMgm2Jhu9mQj"
      },
      "source": [
        "8- Bir stringi(kelime) alan ve birbirini izleyen aynı harfleri çıkaran bir fonksiyon oluşturun.\n",
        "print(cıkar(\"mmmeeerrhhhaaabbbaaa\")) --> merhaba"
      ]
    },
    {
      "cell_type": "code",
      "metadata": {
        "id": "0k1mIpi3ZEHN"
      },
      "source": [
        "def cıkar(string):\n",
        "  k = 0\n",
        "  new_string= \"\"\n",
        "  while k < len(string):\n",
        "    if string[k:-1] == string[-1:(k-len(string))]:\n",
        "      new_string += string[k]\n",
        "      break\n",
        "    if string[k] != string[k+1]:\n",
        "      new_string += string[k]\n",
        "    k += 1\n",
        "  return new_string\n",
        "\n",
        "cıkar(\"mmmeeerrhhhaaabbbaaa\")"
      ],
      "execution_count": null,
      "outputs": []
    },
    {
      "cell_type": "markdown",
      "metadata": {
        "id": "3oD9kK_q9mBH"
      },
      "source": [
        "9- Belirli aralıkta(sınırlar dahil) verilen rakamın kaç kere olduğunu sayan bir fonksiyon yazalım. print(kac_tane(50,55,5)) --> 7"
      ]
    },
    {
      "cell_type": "code",
      "metadata": {
        "id": "nGZ_cO1Af7Y3"
      },
      "source": [
        "def count_num(number1,number2,num):\n",
        "  num_lst = []\n",
        "  for i in range(number1, number2 + 1):\n",
        "    for ii in str(i):\n",
        "      num_lst.append(int(ii))\n",
        "  kac_tane = num_lst.count(num)\n",
        "  return kac_tane\n",
        "\n",
        "count_num(50,105,8)"
      ],
      "execution_count": null,
      "outputs": []
    },
    {
      "cell_type": "markdown",
      "metadata": {
        "id": "n1Tuy6szEGR8"
      },
      "source": [
        "10- Yüksekliği verilen yılbaşı ağacını oluşturan bir fonksiyon yazalım. agac(7)\n",
        "\n",
        "\n",
        "```\n",
        "      #      \n",
        "     ###     \n",
        "    #####    \n",
        "   #######   \n",
        "  #########  \n",
        " ########### \n",
        "############# \n",
        "```\n",
        "\n"
      ]
    },
    {
      "cell_type": "code",
      "metadata": {
        "colab": {
          "base_uri": "https://localhost:8080/"
        },
        "id": "CPoAfToMf8EZ",
        "outputId": "faa89140-a4ee-4a66-f9a7-e6c83abd3b6c"
      },
      "source": [
        "def christmas_tree(height):\n",
        "  space = height*2 - 2\n",
        "  width = 1\n",
        "  for i in range(height):\n",
        "    tree = \"\"\n",
        "    tree += \" \"*int(space/2) + \"#\" * width + \" \"*int(space/2)\n",
        "    print(tree)\n",
        "\n",
        "    width += 2\n",
        "    space -= 2\n",
        "    \n",
        "christmas_tree(25)\n",
        "    \n",
        "\n",
        "\n",
        "\n"
      ],
      "execution_count": null,
      "outputs": [
        {
          "output_type": "stream",
          "text": [
            "                        #                        \n",
            "                       ###                       \n",
            "                      #####                      \n",
            "                     #######                     \n",
            "                    #########                    \n",
            "                   ###########                   \n",
            "                  #############                  \n",
            "                 ###############                 \n",
            "                #################                \n",
            "               ###################               \n",
            "              #####################              \n",
            "             #######################             \n",
            "            #########################            \n",
            "           ###########################           \n",
            "          #############################          \n",
            "         ###############################         \n",
            "        #################################        \n",
            "       ###################################       \n",
            "      #####################################      \n",
            "     #######################################     \n",
            "    #########################################    \n",
            "   ###########################################   \n",
            "  #############################################  \n",
            " ############################################### \n",
            "#################################################\n"
          ],
          "name": "stdout"
        }
      ]
    },
    {
      "cell_type": "code",
      "metadata": {
        "id": "m0p6KMYMkLor"
      },
      "source": [
        ""
      ],
      "execution_count": null,
      "outputs": []
    }
  ]
}