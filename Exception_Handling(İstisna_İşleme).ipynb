{
  "nbformat": 4,
  "nbformat_minor": 0,
  "metadata": {
    "colab": {
      "name": "Exception Handling(İstisna İşleme).ipynb",
      "provenance": [],
      "authorship_tag": "ABX9TyPSHvTOere8jGVMFj0ca9AH",
      "include_colab_link": true
    },
    "kernelspec": {
      "name": "python3",
      "display_name": "Python 3"
    },
    "language_info": {
      "name": "python"
    }
  },
  "cells": [
    {
      "cell_type": "markdown",
      "metadata": {
        "id": "view-in-github",
        "colab_type": "text"
      },
      "source": [
        "<a href=\"https://colab.research.google.com/github/bujihalil1936/python-app/blob/main/Exception_Handling(%C4%B0stisna_%C4%B0%C5%9Fleme).ipynb\" target=\"_parent\"><img src=\"https://colab.research.google.com/assets/colab-badge.svg\" alt=\"Open In Colab\"/></a>"
      ]
    },
    {
      "cell_type": "markdown",
      "metadata": {
        "id": "MOlaR-h9tlFB"
      },
      "source": [
        "Bu derste, istisna hatalarının program akışımızı gereksiz yere kesintiye uğratmasını önlemek için ihtiyaç duyduğumuz stratejileri öğreneceksiniz.\n",
        "\n",
        "Bazı durumlarda, program akışınızı bozabilecek istisnaları önceden tahmin etmeniz ve önceden önlem almanız gerekebilir. İstisna işlemenin devreye girdiği yer burasıdır.\n",
        "\n",
        "Örneğin, kullanıcıdan iki sayı alan, ilk sayıyı ikinci sayıya bölen ve bölümün çıktısını yazdıran bir kod bloğumuz olduğunu varsayalım. Bakalım ne olacak."
      ]
    },
    {
      "cell_type": "code",
      "metadata": {
        "colab": {
          "base_uri": "https://localhost:8080/"
        },
        "id": "LxY1nwt8tQ1p",
        "outputId": "8da3b458-b95e-4796-ec7e-4911363c972e"
      },
      "source": [
        "while True:\n",
        "    no_one = int(input(\"The first number please : \"))\n",
        "    no_two = int(input(\"The second number please : \"))\n",
        "    division = no_one / no_two\n",
        "    print(\"The result of the division is : \", division)\n",
        "    break"
      ],
      "execution_count": 1,
      "outputs": [
        {
          "output_type": "stream",
          "text": [
            "The first number please : 6\n",
            "The second number please : 3\n",
            "The result of the division is :  2.0\n"
          ],
          "name": "stdout"
        }
      ]
    },
    {
      "cell_type": "markdown",
      "metadata": {
        "id": "HsYd0rb2tp7p"
      },
      "source": [
        "Bu sefer bilerek bir hata yapalım ve ikinci sayı olarak 0 girelim:"
      ]
    },
    {
      "cell_type": "code",
      "metadata": {
        "colab": {
          "base_uri": "https://localhost:8080/",
          "height": 273
        },
        "id": "_tXcpurJtrgL",
        "outputId": "492c3151-46b4-478a-b956-c72a78654fdb"
      },
      "source": [
        "while True:\n",
        "    no_one = int(input(\"The first number please : \"))\n",
        "    no_two = int(input(\"The second number please : \"))\n",
        "    division = no_one / no_two\n",
        "    print(\"The result of the division is : \", division)\n",
        "    break"
      ],
      "execution_count": 2,
      "outputs": [
        {
          "output_type": "stream",
          "text": [
            "The first number please : 6\n",
            "The second number please : 0\n"
          ],
          "name": "stdout"
        },
        {
          "output_type": "error",
          "ename": "ZeroDivisionError",
          "evalue": "ignored",
          "traceback": [
            "\u001b[0;31m---------------------------------------------------------------------------\u001b[0m",
            "\u001b[0;31mZeroDivisionError\u001b[0m                         Traceback (most recent call last)",
            "\u001b[0;32m<ipython-input-2-71c23077dd83>\u001b[0m in \u001b[0;36m<module>\u001b[0;34m()\u001b[0m\n\u001b[1;32m      2\u001b[0m     \u001b[0mno_one\u001b[0m \u001b[0;34m=\u001b[0m \u001b[0mint\u001b[0m\u001b[0;34m(\u001b[0m\u001b[0minput\u001b[0m\u001b[0;34m(\u001b[0m\u001b[0;34m\"The first number please : \"\u001b[0m\u001b[0;34m)\u001b[0m\u001b[0;34m)\u001b[0m\u001b[0;34m\u001b[0m\u001b[0;34m\u001b[0m\u001b[0m\n\u001b[1;32m      3\u001b[0m     \u001b[0mno_two\u001b[0m \u001b[0;34m=\u001b[0m \u001b[0mint\u001b[0m\u001b[0;34m(\u001b[0m\u001b[0minput\u001b[0m\u001b[0;34m(\u001b[0m\u001b[0;34m\"The second number please : \"\u001b[0m\u001b[0;34m)\u001b[0m\u001b[0;34m)\u001b[0m\u001b[0;34m\u001b[0m\u001b[0;34m\u001b[0m\u001b[0m\n\u001b[0;32m----> 4\u001b[0;31m     \u001b[0mdivision\u001b[0m \u001b[0;34m=\u001b[0m \u001b[0mno_one\u001b[0m \u001b[0;34m/\u001b[0m \u001b[0mno_two\u001b[0m\u001b[0;34m\u001b[0m\u001b[0;34m\u001b[0m\u001b[0m\n\u001b[0m\u001b[1;32m      5\u001b[0m     \u001b[0mprint\u001b[0m\u001b[0;34m(\u001b[0m\u001b[0;34m\"The result of the division is : \"\u001b[0m\u001b[0;34m,\u001b[0m \u001b[0mdivision\u001b[0m\u001b[0;34m)\u001b[0m\u001b[0;34m\u001b[0m\u001b[0;34m\u001b[0m\u001b[0m\n\u001b[1;32m      6\u001b[0m     \u001b[0;32mbreak\u001b[0m\u001b[0;34m\u001b[0m\u001b[0;34m\u001b[0m\u001b[0m\n",
            "\u001b[0;31mZeroDivisionError\u001b[0m: division by zero"
          ]
        }
      ]
    },
    {
      "cell_type": "markdown",
      "metadata": {
        "id": "HLMytKhwty6-"
      },
      "source": [
        "Evet, son denememizde bir istisna hata mesajı aldık. Bu yüzden size bunu çözmenin yolunu göstermenin zamanı geldi. try-except ifadesini kullanarak programımızın tereddüt etmeden devam etmesini sağlayabiliriz . Temel yapısı try-except açıklamada şöyle görünür:\n",
        "\n",
        "try:\n",
        "    code block to be normally executed\n",
        "except:\n",
        "    code block to be exceptionally executed\n",
        "\n",
        "    Bu istisna sorununu aşağıdaki gibi try-except ifadeyi kullanarak düzeltelim :"
      ]
    },
    {
      "cell_type": "code",
      "metadata": {
        "colab": {
          "base_uri": "https://localhost:8080/"
        },
        "id": "UjXnBgKgt0J6",
        "outputId": "41340636-012c-480b-9e41-46789771558e"
      },
      "source": [
        "while True:\n",
        "    no_one = int(input(\"The first number please : \"))\n",
        "    no_two = int(input(\"The second number please : \"))\n",
        "    try:\n",
        "        division = no_one / no_two\n",
        "        print(\"The result of the division is : \", division)\n",
        "        break\n",
        "    except:\n",
        "        print(\"Something went wrong...Try again.\")"
      ],
      "execution_count": 3,
      "outputs": [
        {
          "output_type": "stream",
          "text": [
            "The first number please : 6\n",
            "The second number please : 0\n",
            "Something went wrong...Try again.\n",
            "The first number please : 6\n",
            "The second number please : 3\n",
            "The result of the division is :  2.0\n"
          ],
          "name": "stdout"
        }
      ]
    },
    {
      "cell_type": "markdown",
      "metadata": {
        "id": "hpz0MQrSuVNl"
      },
      "source": [
        "Çıktıda gördüğünüz gibi, herhangi bir istisna hata mesajı veya programın bozulması yok. İstisna hata mesajını try-except ifademizde belirtebiliriz."
      ]
    }
  ]
}