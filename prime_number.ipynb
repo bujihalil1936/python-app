{
  "nbformat": 4,
  "nbformat_minor": 0,
  "metadata": {
    "colab": {
      "name": "prime number.ipynb",
      "provenance": [],
      "authorship_tag": "ABX9TyN5QvTCALxn3qtXwFGRlraz",
      "include_colab_link": true
    },
    "kernelspec": {
      "name": "python3",
      "display_name": "Python 3"
    },
    "language_info": {
      "name": "python"
    }
  },
  "cells": [
    {
      "cell_type": "markdown",
      "metadata": {
        "id": "view-in-github",
        "colab_type": "text"
      },
      "source": [
        "<a href=\"https://colab.research.google.com/github/bujihalil1936/python-app/blob/main/prime_number.ipynb\" target=\"_parent\"><img src=\"https://colab.research.google.com/assets/colab-badge.svg\" alt=\"Open In Colab\"/></a>"
      ]
    },
    {
      "cell_type": "markdown",
      "metadata": {
        "id": "4j4j3n2Po8g8"
      },
      "source": [
        "Task : Write a program that takes a number from the user and prints the result to check if it is a prime number.\n",
        "\n"
      ]
    },
    {
      "cell_type": "code",
      "metadata": {
        "colab": {
          "base_uri": "https://localhost:8080/"
        },
        "id": "LCs7DT1uopbh",
        "outputId": "0b469e10-e21a-4a27-9b70-8fd9f9f40458"
      },
      "source": [
        "sayi=int(input(\"Lütfen bir sayı giriniz: \"))\n",
        "liste=[i for i in range(2,sayi) if not sayi%i]\n",
        "if any(liste):\n",
        "  print(sayi,\"is not a prime number\") \n",
        "else:\n",
        "  print(sayi,\"is a prime number\")"
      ],
      "execution_count": 3,
      "outputs": [
        {
          "output_type": "stream",
          "text": [
            "Lütfen bir sayı giriniz: 19\n",
            "19 is a prime number\n"
          ],
          "name": "stdout"
        }
      ]
    }
  ]
}