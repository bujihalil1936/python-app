{
  "nbformat": 4,
  "nbformat_minor": 0,
  "metadata": {
    "colab": {
      "name": "group_1.ipynb adlı not defterinin kopyası",
      "provenance": [],
      "include_colab_link": true
    },
    "kernelspec": {
      "name": "python3",
      "display_name": "Python 3"
    },
    "language_info": {
      "name": "python"
    }
  },
  "cells": [
    {
      "cell_type": "markdown",
      "metadata": {
        "id": "view-in-github",
        "colab_type": "text"
      },
      "source": [
        "<a href=\"https://colab.research.google.com/github/bujihalil1936/python-app/blob/main/group_1_ipynb_adl%C4%B1_not_defterinin_kopyas%C4%B1.ipynb\" target=\"_parent\"><img src=\"https://colab.research.google.com/assets/colab-badge.svg\" alt=\"Open In Colab\"/></a>"
      ]
    },
    {
      "cell_type": "markdown",
      "metadata": {
        "id": "r9B45NdlOz1t"
      },
      "source": [
        "```\n",
        "1 Sansürlü kelimeyi düzeltelim\n",
        "print(sansür(\"pyth*n\", \"o\")) ---> python\n",
        "print(sansür(\"*r*b*m* p*rk *tt*m\",\"aaaıaei\"))  --> arabamı park ettim\n",
        "```\n",
        "\n"
      ]
    },
    {
      "cell_type": "code",
      "metadata": {
        "colab": {
          "base_uri": "https://localhost:8080/"
        },
        "id": "a5r3AKGhcP4w",
        "outputId": "d5d79c07-d70c-4f82-b610-691b8b190f34"
      },
      "source": [
        "girdi = input(\"Bir yazı girin:\")\n",
        "for i in girdi[0:]:\n",
        "  if i !=\"a\" and i !=\"e\" and i !=\"i\" and i !=\"o\":\n",
        "   print(i, end='')\n",
        "\n",
        "\n"
      ],
      "execution_count": null,
      "outputs": [
        {
          "output_type": "stream",
          "text": [
            "Bir yazı girin:arabamı park ettim\n",
            "rbmı prk ttm"
          ],
          "name": "stdout"
        }
      ]
    },
    {
      "cell_type": "code",
      "metadata": {
        "colab": {
          "base_uri": "https://localhost:8080/"
        },
        "id": "nrcvMOhBmPw0",
        "outputId": "6f2cf0c0-4fc8-47d4-9cc7-e30dfb69c721"
      },
      "source": [
        "def sansür(sansürlü, sesli):\n",
        "  n=0\n",
        "  for i in sansürlü:\n",
        "    if i=='*':\n",
        "      sansürlü=sansürlü.replace('*',sesli[n],1)\n",
        "      n+=1\n",
        "  return sansürlü\n",
        "print(sansür(\"pyth*n\", \"o\"))\n",
        "print(sansür(\"*r*b*m* p*rk *tt*m\",\"aaaıaei\")) "
      ],
      "execution_count": null,
      "outputs": [
        {
          "output_type": "stream",
          "text": [
            "python\n",
            "arabamı park ettim\n"
          ],
          "name": "stdout"
        }
      ]
    },
    {
      "cell_type": "markdown",
      "metadata": {
        "id": "Q5AiEAoiPHH-"
      },
      "source": [
        "```\n",
        "2. Girdisi string olan ifadenin içerisindeki harflerin türkçe alfabesindeki yerlerini bulup, hepsinin değerlerini toplayıp sonuç çiftse True tekse False yazdıran bir fonksiyon yazınız.\n",
        "print(kelime_cift_mi(\"Bilgisayar\")) -->True\n",
        "```\n",
        "\n"
      ]
    },
    {
      "cell_type": "code",
      "metadata": {
        "colab": {
          "base_uri": "https://localhost:8080/"
        },
        "id": "xu0AMXJto3BC",
        "outputId": "86334d47-9bec-4632-df85-d3399b06ceb4"
      },
      "source": [
        "def kelime_cift_mi(cümle):\n",
        "  kucuk=\"abcçdefgğhıijklmnoöprsştuüvyz\"\n",
        "  toplam=0\n",
        "  for i in cümle.lower():\n",
        "    if i in kucuk:\n",
        "      toplam+=kucuk.index(i)+1\n",
        "  if toplam % 2 == 0:\n",
        "    return True\n",
        "  else:\n",
        "    return False\n",
        "print(kelime_cift_mi(\"B ç\"))"
      ],
      "execution_count": null,
      "outputs": [
        {
          "output_type": "stream",
          "text": [
            "True\n"
          ],
          "name": "stdout"
        }
      ]
    },
    {
      "cell_type": "markdown",
      "metadata": {
        "id": "yUnkroayPGvn"
      },
      "source": [
        "\n",
        "```\n",
        " 3. Write a program to prompt the user for hours and rate per hour using input to compute gross pay. Pay should be the normal rate for hours up to 40 and time-and-a-half for the hourly rate for all hours worked above 40 hours. Put the logic to do the computation of pay in a function called computepay() and use the function to do the computation. The function should return a value. Use 45 hours and a rate of 10.50 per hour to test the program (the pay should be 498.75). You should use input to read a string and float() to convert the string to a number. Do not worry about error checking the user input unless you want to - you can assume the user types numbers properly. Do not name your variable sum or use the sum() function\n",
        "\n",
        "```\n",
        "\n"
      ]
    },
    {
      "cell_type": "code",
      "metadata": {
        "colab": {
          "base_uri": "https://localhost:8080/"
        },
        "id": "r7cpf1KJrTTV",
        "outputId": "5ef22783-4152-401a-b9e8-3bbf1b798157"
      },
      "source": [
        "def compute_pay(h, r):\n",
        "  if h > 40:\n",
        "    p = 40*r + (h-40) * r* 1.5\n",
        "  else:\n",
        "    p= h*r\n",
        "  return p\n",
        "compute_pay(45, 2)"
      ],
      "execution_count": null,
      "outputs": [
        {
          "output_type": "execute_result",
          "data": {
            "text/plain": [
              "95.0"
            ]
          },
          "metadata": {
            "tags": []
          },
          "execution_count": 19
        }
      ]
    },
    {
      "cell_type": "markdown",
      "metadata": {
        "id": "agUSmN0iPGqB"
      },
      "source": [
        "```\n",
        "4. Sayının faktöriyelini hesaplayan fonksiyon yazalım.\n",
        "```\n",
        "\n",
        "\n"
      ]
    },
    {
      "cell_type": "code",
      "metadata": {
        "colab": {
          "base_uri": "https://localhost:8080/"
        },
        "id": "nh49CwbUsTG2",
        "outputId": "d79ec9c8-1145-4ff3-b3b0-c98ae0bda303"
      },
      "source": [
        "def factoriel(sayi):\n",
        "  sonuc = 1\n",
        "  i = 1\n",
        "  while i <sayi+1:\n",
        "    sonuc*=i\n",
        "    i+=1\n",
        "  return sonuc\n",
        "factoriel(4)\n"
      ],
      "execution_count": null,
      "outputs": [
        {
          "output_type": "execute_result",
          "data": {
            "text/plain": [
              "24"
            ]
          },
          "metadata": {
            "tags": []
          },
          "execution_count": 21
        }
      ]
    },
    {
      "cell_type": "code",
      "metadata": {
        "colab": {
          "base_uri": "https://localhost:8080/"
        },
        "id": "mVKSpP0ytsON",
        "outputId": "853249a6-a95f-41bc-af5a-95989e15741c"
      },
      "source": [
        "def factoriel(sayi):\n",
        "  sonuc = 1\n",
        "  for i in range(1,sayi+1):\n",
        "    sonuc*=i\n",
        "  return sonuc\n",
        "factoriel(5)"
      ],
      "execution_count": null,
      "outputs": [
        {
          "output_type": "execute_result",
          "data": {
            "text/plain": [
              "120"
            ]
          },
          "metadata": {
            "tags": []
          },
          "execution_count": 20
        }
      ]
    },
    {
      "cell_type": "markdown",
      "metadata": {
        "id": "tPWXxyrEPGmw"
      },
      "source": [
        "```\n",
        "5. Sayı ve string paramestresi alan, sayıyı geriye doğru aralarında * olacak şekilde yazdıran, sonuna verilen stringi büyük harflerle ekleyen ve en sona ! işareti koyan bir fonksiyon yazalım\n",
        " ÖRNEK\n",
        "geri_say(3,\"go\")--> \"3*2*1*GO!\"**kalın metin**\n",
        "```\n",
        "\n"
      ]
    },
    {
      "cell_type": "code",
      "metadata": {
        "colab": {
          "base_uri": "https://localhost:8080/",
          "height": 35
        },
        "id": "F5Vuzt7Htz29",
        "outputId": "a9e69f9d-60e7-448d-fc1c-0c613c5cc749"
      },
      "source": [
        "def geri_say(n, yazi):\n",
        "  sonuc = ''\n",
        "  for i in range(n,0,-1):\n",
        "    sonuc += str(i) + '*'\n",
        "  sonuc+= yazi.upper() + '!'\n",
        "  return sonuc\n",
        "geri_say(3,\"go\")"
      ],
      "execution_count": null,
      "outputs": [
        {
          "output_type": "execute_result",
          "data": {
            "application/vnd.google.colaboratory.intrinsic+json": {
              "type": "string"
            },
            "text/plain": [
              "'3*2*1*GO!'"
            ]
          },
          "metadata": {
            "tags": []
          },
          "execution_count": 22
        }
      ]
    },
    {
      "cell_type": "markdown",
      "metadata": {
        "id": "X0np6sCFPGjA"
      },
      "source": [
        "```\n",
        "6. Arif ve Raife listede yanyana duruyorlasa True döndüren durmuyorlarsa False döndüren bir fonksiyon yazalım.\n",
        "print(yan_yana_mı([\"Arif\",\"Raife\",\"Nihal\"])) --> True\n",
        "print(yan_yana_mı([\"Arif\",\"Nihal\",\"Raife\"])) --> False\n",
        "```\n",
        "\n"
      ]
    },
    {
      "cell_type": "code",
      "metadata": {
        "colab": {
          "base_uri": "https://localhost:8080/"
        },
        "id": "vrm7zayRvOo2",
        "outputId": "ca232318-5fd6-4f01-df96-fce1351c939e"
      },
      "source": [
        "def yan_yana_mi(liste):\n",
        "  for i in liste:\n",
        "    if liste.index('Arif')+1 == liste.index('Raife') or liste.index('Arif') == liste.index('Raife') +1:\n",
        "      return True\n",
        "    else:\n",
        "      return False\n",
        "print(yan_yana_mi([\"Arif\",\"Raife\",\"Nihal\"]))\n",
        "print(yan_yana_mi([\"Arif\",\"Nihal\",\"Raife\"]))"
      ],
      "execution_count": null,
      "outputs": [
        {
          "output_type": "stream",
          "text": [
            "True\n",
            "False\n"
          ],
          "name": "stdout"
        }
      ]
    },
    {
      "cell_type": "markdown",
      "metadata": {
        "id": "o8RAQ9ZpPGcN"
      },
      "source": [
        "```\n",
        "7. Listedeki her elemanı kendi indexi ile çarpıp toplamı veren bir fonksiyon yazalım.\n",
        "print(carpip_topla([1,2,3,4,5,6,7,8,9,10])) --> 330\n",
        "```\n",
        "\n",
        "\n",
        "\n"
      ]
    },
    {
      "cell_type": "code",
      "metadata": {
        "colab": {
          "base_uri": "https://localhost:8080/"
        },
        "id": "QtSv1MTEwpt6",
        "outputId": "1b6c356f-20d5-40d4-a6d8-1434d4e4906a"
      },
      "source": [
        "def carpıp_topla(liste):\n",
        "  toplam = 0\n",
        "  for i in range(len(liste)):\n",
        "    toplam += i* liste [i]\n",
        "  return toplam\n",
        "carpıp_topla([1,1])"
      ],
      "execution_count": null,
      "outputs": [
        {
          "output_type": "execute_result",
          "data": {
            "text/plain": [
              "1"
            ]
          },
          "metadata": {
            "tags": []
          },
          "execution_count": 29
        }
      ]
    },
    {
      "cell_type": "code",
      "metadata": {
        "colab": {
          "base_uri": "https://localhost:8080/"
        },
        "id": "qQ8AeaSSyIC2",
        "outputId": "0d28a94a-2885-4e7f-8fa1-a879564ceddb"
      },
      "source": [
        "#hatalı çözüm\n",
        "def carpıp_topla(liste):\n",
        "  toplam = 0\n",
        "  for i in liste:\n",
        "    toplam += i* liste.index(i)\n",
        "  return toplam\n",
        "carpıp_topla([1,1])"
      ],
      "execution_count": null,
      "outputs": [
        {
          "output_type": "execute_result",
          "data": {
            "text/plain": [
              "0"
            ]
          },
          "metadata": {
            "tags": []
          },
          "execution_count": 30
        }
      ]
    },
    {
      "cell_type": "markdown",
      "metadata": {
        "id": "6eFw-Cy2PGYg"
      },
      "source": [
        "```\n",
        "8. Cümledeki sayı ve harflerin sayısını bulan bir fonksiyon yazalım\n",
        "print(harf_sayi_sayisi(\"10'a kadar saysam ve sonrasında hayat bayram olsa.\")) --> Harfler: 39, Sayılar: 2\n",
        "\n",
        "```\n",
        "\n",
        "\n"
      ]
    },
    {
      "cell_type": "code",
      "metadata": {
        "colab": {
          "base_uri": "https://localhost:8080/"
        },
        "id": "HPs603NezmG6",
        "outputId": "e9e9c321-edc7-44e2-baec-8ba110439e84"
      },
      "source": [
        "def harf_sayi_sayisi(cümle):\n",
        "  h = 0\n",
        "  s = 0\n",
        "  for i in cümle:\n",
        "    if i.isalpha():\n",
        "      h+=1\n",
        "    elif i.isdigit():\n",
        "      s+=1\n",
        "  return f'Harfler: {h}, sayılar {s}'\n",
        "print(harf_sayi_sayisi(\"10'a kadar saysam ve sonrasında hayat bayram olsa.\"))"
      ],
      "execution_count": null,
      "outputs": [
        {
          "output_type": "stream",
          "text": [
            "Harfler: 39, sayılar 2\n"
          ],
          "name": "stdout"
        }
      ]
    },
    {
      "cell_type": "markdown",
      "metadata": {
        "id": "txt134wgPGVZ"
      },
      "source": [
        "```\n",
        "9.Stringin içindeki en büyük ve en küçük sayıyı veren fonksiyon yazalım.\n",
        "print(büyük_kücük(\"3 2 4 6 -1 12\")) --> 12 -1\n",
        "```\n",
        "\n"
      ]
    },
    {
      "cell_type": "code",
      "metadata": {
        "colab": {
          "base_uri": "https://localhost:8080/"
        },
        "id": "WQcZbSbmzpoi",
        "outputId": "e3cba077-45ff-4e96-fc92-8cf8ad1088f4"
      },
      "source": [
        "def buyuk_kucuk(deger):\n",
        "  liste= list(map(int, deger.split()))\n",
        "  return f'{max(liste)} {min(liste)}'\n",
        "print(buyuk_kucuk(\"3 2 4 6 -1 12\"))"
      ],
      "execution_count": null,
      "outputs": [
        {
          "output_type": "stream",
          "text": [
            "12 -1\n"
          ],
          "name": "stdout"
        }
      ]
    },
    {
      "cell_type": "markdown",
      "metadata": {
        "id": "RhGJCDaNPGIS"
      },
      "source": [
        "```\n",
        "10. Harfler ve boşluklardan oluşan stringin içindeki kelime nin uzunluğu beş veya dah fazla ise o kelimeyi ters çeviren bir fonksiyon yazalım.\n",
        "print(ters_döndür(\"Ah bir data scientist olabilsem:)\")) --> Ah bir data tsitneics ):meslibalo\n",
        "```\n",
        "\n"
      ]
    },
    {
      "cell_type": "code",
      "metadata": {
        "colab": {
          "base_uri": "https://localhost:8080/"
        },
        "id": "VFsJRnVP03NM",
        "outputId": "3ca4e76d-b80c-48c3-fa82-743fa35661a2"
      },
      "source": [
        "def ters_dondur(yazi):\n",
        "  liste = yazi.split()\n",
        "  yeni = ''\n",
        "  for i in liste :\n",
        "    if len(i) >= 5:\n",
        "      yeni += i [::-1] + ' '\n",
        "    else:\n",
        "      yeni += i + ' '\n",
        "  return yeni.strip()\n",
        "print(ters_dondur(\"Ah bir data scientist olabilsem:)\"))"
      ],
      "execution_count": null,
      "outputs": [
        {
          "output_type": "stream",
          "text": [
            "Ah bir data tsitneics ):meslibalo\n"
          ],
          "name": "stdout"
        }
      ]
    }
  ]
}